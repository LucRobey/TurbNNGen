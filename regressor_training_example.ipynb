{
 "cells": [
  {
   "cell_type": "code",
   "execution_count": 1,
   "id": "ac02d00f",
   "metadata": {},
   "outputs": [],
   "source": [
    "from torchsummary import summary\n",
    "import torchvision.transforms as transforms\n",
    "import torch.nn as nn\n",
    "import torch\n",
    "\n",
    "from regression_dataset import RegressionDataset\n",
    "from create_data_loaders import create_data_loaders\n",
    "from cnn_regressor import CNNRegressor\n",
    "from training import training\n",
    "from plot_losses import plot_losses\n",
    "import num_ctes as nctes"
   ]
  },
  {
   "cell_type": "code",
   "execution_count": 2,
   "id": "f9899255",
   "metadata": {},
   "outputs": [],
   "source": [
    "sample_size = 10000 # nctes.N is too big"
   ]
  },
  {
   "cell_type": "code",
   "execution_count": 2,
   "id": "da49233a",
   "metadata": {},
   "outputs": [],
   "source": [
    "mrw_path = \"/media/f22dimar/BC7D-0518/MRW.npz\"\n",
    "transform = transforms.ToTensor()\n",
    "\n",
    "data = RegressionDataset(mrw_path, transform, sample_size)"
   ]
  },
  {
   "cell_type": "code",
   "execution_count": 3,
   "id": "542832f9",
   "metadata": {},
   "outputs": [],
   "source": [
    "batch_size = 20\n",
    "valid_size = 0.2\n",
    "test_size = 0.2\n",
    "\n",
    "train_loader, valid_loader, test_loader = create_data_loaders(batch_size, valid_size, test_size, data)"
   ]
  },
  {
   "cell_type": "code",
   "execution_count": 2,
   "id": "568772a2",
   "metadata": {},
   "outputs": [
    {
     "name": "stdout",
     "output_type": "stream",
     "text": [
      "Using device cpu\n"
     ]
    }
   ],
   "source": [
    "device = torch.device('cuda' if torch.cuda.is_available() else 'cpu')\n",
    "print('Using device ' + str(device))"
   ]
  },
  {
   "cell_type": "code",
   "execution_count": 6,
   "id": "49bdac0d",
   "metadata": {
    "scrolled": true
   },
   "outputs": [
    {
     "name": "stdout",
     "output_type": "stream",
     "text": [
      "==========================================================================================\n",
      "Layer (type:depth-idx)                   Output Shape              Param #\n",
      "==========================================================================================\n",
      "├─Sequential: 1-1                        [-1, 16, 10000]           --\n",
      "|    └─Conv1d: 2-1                       [-1, 16, 10000]           16\n",
      "|    └─BatchNorm1d: 2-2                  [-1, 16, 10000]           32\n",
      "|    └─ReLU: 2-3                         [-1, 16, 10000]           --\n",
      "├─Sequential: 1-2                        [-1, 32, 9999]            --\n",
      "|    └─Conv1d: 2-4                       [-1, 32, 9999]            1,024\n",
      "|    └─BatchNorm1d: 2-5                  [-1, 32, 9999]            64\n",
      "|    └─ReLU: 2-6                         [-1, 32, 9999]            --\n",
      "├─AvgPool1d: 1-3                         [-1, 32, 5000]            --\n",
      "├─Sequential: 1-4                        [-1, 64, 4997]            --\n",
      "|    └─Conv1d: 2-7                       [-1, 64, 4997]            8,192\n",
      "|    └─BatchNorm1d: 2-8                  [-1, 64, 4997]            128\n",
      "|    └─ReLU: 2-9                         [-1, 64, 4997]            --\n",
      "├─AvgPool1d: 1-5                         [-1, 64, 2499]            --\n",
      "├─Sequential: 1-6                        [-1, 128, 2492]           --\n",
      "|    └─Conv1d: 2-10                      [-1, 128, 2492]           65,536\n",
      "|    └─BatchNorm1d: 2-11                 [-1, 128, 2492]           256\n",
      "|    └─ReLU: 2-12                        [-1, 128, 2492]           --\n",
      "├─AvgPool1d: 1-7                         [-1, 128, 1246]           --\n",
      "├─Sequential: 1-8                        [-1, 256, 1231]           --\n",
      "|    └─Conv1d: 2-13                      [-1, 256, 1231]           524,288\n",
      "|    └─BatchNorm1d: 2-14                 [-1, 256, 1231]           512\n",
      "|    └─ReLU: 2-15                        [-1, 256, 1231]           --\n",
      "├─AvgPool1d: 1-9                         [-1, 256, 616]            --\n",
      "├─Sequential: 1-10                       [-1, 256, 585]            --\n",
      "|    └─Conv1d: 2-16                      [-1, 256, 585]            2,097,152\n",
      "|    └─BatchNorm1d: 2-17                 [-1, 256, 585]            512\n",
      "|    └─ReLU: 2-18                        [-1, 256, 585]            --\n",
      "├─AvgPool1d: 1-11                        [-1, 256, 293]            --\n",
      "├─Sequential: 1-12                       [-1, 256, 230]            --\n",
      "|    └─Conv1d: 2-19                      [-1, 256, 230]            4,194,304\n",
      "|    └─BatchNorm1d: 2-20                 [-1, 256, 230]            512\n",
      "|    └─ReLU: 2-21                        [-1, 256, 230]            --\n",
      "├─Flatten: 1-13                          [-1, 58880]               --\n",
      "├─Linear: 1-14                           [-1, 4]                   235,524\n",
      "==========================================================================================\n",
      "Total params: 7,128,052\n",
      "Trainable params: 7,128,052\n",
      "Non-trainable params: 0\n",
      "Total mult-adds (G): 3.06\n",
      "==========================================================================================\n",
      "Input size (MB): 0.04\n",
      "Forward/backward pass size (MB): 25.06\n",
      "Params size (MB): 27.19\n",
      "Estimated Total Size (MB): 52.29\n",
      "==========================================================================================\n"
     ]
    },
    {
     "data": {
      "text/plain": [
       "==========================================================================================\n",
       "Layer (type:depth-idx)                   Output Shape              Param #\n",
       "==========================================================================================\n",
       "├─Sequential: 1-1                        [-1, 16, 10000]           --\n",
       "|    └─Conv1d: 2-1                       [-1, 16, 10000]           16\n",
       "|    └─BatchNorm1d: 2-2                  [-1, 16, 10000]           32\n",
       "|    └─ReLU: 2-3                         [-1, 16, 10000]           --\n",
       "├─Sequential: 1-2                        [-1, 32, 9999]            --\n",
       "|    └─Conv1d: 2-4                       [-1, 32, 9999]            1,024\n",
       "|    └─BatchNorm1d: 2-5                  [-1, 32, 9999]            64\n",
       "|    └─ReLU: 2-6                         [-1, 32, 9999]            --\n",
       "├─AvgPool1d: 1-3                         [-1, 32, 5000]            --\n",
       "├─Sequential: 1-4                        [-1, 64, 4997]            --\n",
       "|    └─Conv1d: 2-7                       [-1, 64, 4997]            8,192\n",
       "|    └─BatchNorm1d: 2-8                  [-1, 64, 4997]            128\n",
       "|    └─ReLU: 2-9                         [-1, 64, 4997]            --\n",
       "├─AvgPool1d: 1-5                         [-1, 64, 2499]            --\n",
       "├─Sequential: 1-6                        [-1, 128, 2492]           --\n",
       "|    └─Conv1d: 2-10                      [-1, 128, 2492]           65,536\n",
       "|    └─BatchNorm1d: 2-11                 [-1, 128, 2492]           256\n",
       "|    └─ReLU: 2-12                        [-1, 128, 2492]           --\n",
       "├─AvgPool1d: 1-7                         [-1, 128, 1246]           --\n",
       "├─Sequential: 1-8                        [-1, 256, 1231]           --\n",
       "|    └─Conv1d: 2-13                      [-1, 256, 1231]           524,288\n",
       "|    └─BatchNorm1d: 2-14                 [-1, 256, 1231]           512\n",
       "|    └─ReLU: 2-15                        [-1, 256, 1231]           --\n",
       "├─AvgPool1d: 1-9                         [-1, 256, 616]            --\n",
       "├─Sequential: 1-10                       [-1, 256, 585]            --\n",
       "|    └─Conv1d: 2-16                      [-1, 256, 585]            2,097,152\n",
       "|    └─BatchNorm1d: 2-17                 [-1, 256, 585]            512\n",
       "|    └─ReLU: 2-18                        [-1, 256, 585]            --\n",
       "├─AvgPool1d: 1-11                        [-1, 256, 293]            --\n",
       "├─Sequential: 1-12                       [-1, 256, 230]            --\n",
       "|    └─Conv1d: 2-19                      [-1, 256, 230]            4,194,304\n",
       "|    └─BatchNorm1d: 2-20                 [-1, 256, 230]            512\n",
       "|    └─ReLU: 2-21                        [-1, 256, 230]            --\n",
       "├─Flatten: 1-13                          [-1, 58880]               --\n",
       "├─Linear: 1-14                           [-1, 4]                   235,524\n",
       "==========================================================================================\n",
       "Total params: 7,128,052\n",
       "Trainable params: 7,128,052\n",
       "Non-trainable params: 0\n",
       "Total mult-adds (G): 3.06\n",
       "==========================================================================================\n",
       "Input size (MB): 0.04\n",
       "Forward/backward pass size (MB): 25.06\n",
       "Params size (MB): 27.19\n",
       "Estimated Total Size (MB): 52.29\n",
       "=========================================================================================="
      ]
     },
     "execution_count": 6,
     "metadata": {},
     "output_type": "execute_result"
    }
   ],
   "source": [
    "model = CNNRegressor(input_size=sample_size)\n",
    "model.to(device=device)\n",
    "\n",
    "summary(model, (1, input_size))"
   ]
  },
  {
   "cell_type": "code",
   "execution_count": null,
   "id": "73e641da",
   "metadata": {},
   "outputs": [],
   "source": [
    "params = model.parameters()\n",
    "lr = 0.01\n",
    "\n",
    "optimizer = torch.optim.SGD(params, lr)"
   ]
  },
  {
   "cell_type": "code",
   "execution_count": null,
   "id": "e3f05eac",
   "metadata": {},
   "outputs": [],
   "source": [
    "n_epochs = 5\n",
    "\n",
    "train_losses, valid_losses = training(n_epochs, train_loader, valid_loader, model, criterion, optimizer, device) "
   ]
  },
  {
   "cell_type": "code",
   "execution_count": null,
   "id": "7bc2a1d0",
   "metadata": {},
   "outputs": [],
   "source": []
  },
  {
   "cell_type": "code",
   "execution_count": null,
   "id": "c528bcee",
   "metadata": {},
   "outputs": [],
   "source": [
    "model.load_state_dict(torch.load(\"model.pt\", map_location=device))"
   ]
  },
  {
   "cell_type": "code",
   "execution_count": null,
   "id": "81854ecf",
   "metadata": {},
   "outputs": [],
   "source": []
  }
 ],
 "metadata": {
  "@webio": {
   "lastCommId": null,
   "lastKernelId": null
  },
  "kernelspec": {
   "display_name": "Python 3 (ipykernel)",
   "language": "python",
   "name": "python3"
  },
  "language_info": {
   "codemirror_mode": {
    "name": "ipython",
    "version": 3
   },
   "file_extension": ".py",
   "mimetype": "text/x-python",
   "name": "python",
   "nbconvert_exporter": "python",
   "pygments_lexer": "ipython3",
   "version": "3.11.5"
  }
 },
 "nbformat": 4,
 "nbformat_minor": 5
}
