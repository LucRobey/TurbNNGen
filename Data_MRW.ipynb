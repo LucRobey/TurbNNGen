{
 "cells": [
  {
   "cell_type": "code",
   "execution_count": 1,
   "id": "fc0b0507",
   "metadata": {},
   "outputs": [],
   "source": [
    "import numpy as np"
   ]
  },
  {
   "cell_type": "code",
   "execution_count": 8,
   "id": "964f1bc1",
   "metadata": {},
   "outputs": [
    {
     "name": "stdout",
     "output_type": "stream",
     "text": [
      "['mrw', 'c1s', 'c2s', 'Ls', 'epsilons', 'N', 'win']\n"
     ]
    }
   ],
   "source": [
    "data = np.load(\"Data_MRW.npz\")\n",
    "print(data.files)"
   ]
  },
  {
   "cell_type": "code",
   "execution_count": 19,
   "id": "2de020e2",
   "metadata": {},
   "outputs": [
    {
     "name": "stdout",
     "output_type": "stream",
     "text": [
      "len(c1s) = 4\n",
      "c1s = [0.2 0.4 0.6 0.8]\n"
     ]
    }
   ],
   "source": [
    "c1s = data[\"c1s\"]\n",
    "print(f\"{len(c1s) = !s}\")\n",
    "print(f\"{c1s = !s}\")"
   ]
  },
  {
   "cell_type": "code",
   "execution_count": 20,
   "id": "792b5797",
   "metadata": {},
   "outputs": [
    {
     "name": "stdout",
     "output_type": "stream",
     "text": [
      "len(c2s) = 4\n",
      "c2s = [0.02 0.04 0.06 0.08]\n"
     ]
    }
   ],
   "source": [
    "c2s = data[\"c2s\"]\n",
    "print(f\"{len(c2s) = !s}\")\n",
    "print(f\"{c2s = !s}\")"
   ]
  },
  {
   "cell_type": "code",
   "execution_count": 21,
   "id": "e0c1c1ec",
   "metadata": {},
   "outputs": [
    {
     "name": "stdout",
     "output_type": "stream",
     "text": [
      "len(Ls) = 5\n",
      "Ls = [1000 2000 3000 4000 5000]\n"
     ]
    }
   ],
   "source": [
    "Ls = data[\"Ls\"]\n",
    "print(f\"{len(Ls) = !s}\")\n",
    "print(f\"{Ls = !s}\")"
   ]
  },
  {
   "cell_type": "code",
   "execution_count": 22,
   "id": "7084bb1c",
   "metadata": {
    "scrolled": true
   },
   "outputs": [
    {
     "name": "stdout",
     "output_type": "stream",
     "text": [
      "len(epsilons) = 5\n",
      "epsilons = [0.5 1.5 2.5 3.5 4.5]\n"
     ]
    }
   ],
   "source": [
    "epsilons = data[\"epsilons\"]\n",
    "print(f\"{len(epsilons) = !s}\")\n",
    "print(f\"{epsilons = !s}\")"
   ]
  },
  {
   "cell_type": "code",
   "execution_count": 24,
   "id": "6f1137c2",
   "metadata": {},
   "outputs": [
    {
     "name": "stdout",
     "output_type": "stream",
     "text": [
      "N = 1048576\n"
     ]
    }
   ],
   "source": [
    "N = data[\"N\"]\n",
    "print(f\"{N = !s}\")"
   ]
  },
  {
   "cell_type": "code",
   "execution_count": 25,
   "id": "7f5119bd",
   "metadata": {},
   "outputs": [
    {
     "name": "stdout",
     "output_type": "stream",
     "text": [
      "win = 1\n"
     ]
    }
   ],
   "source": [
    "win = data[\"win\"]\n",
    "print(f\"{win = !s}\")"
   ]
  },
  {
   "cell_type": "code",
   "execution_count": 28,
   "id": "10c39257",
   "metadata": {},
   "outputs": [],
   "source": [
    "mrw = data[\"mrw\"]"
   ]
  },
  {
   "cell_type": "code",
   "execution_count": 38,
   "id": "79f742e4",
   "metadata": {},
   "outputs": [
    {
     "name": "stdout",
     "output_type": "stream",
     "text": [
      "mrw.shape = (4, 4, 5, 5, 1048576)\n",
      "mrw.shape[0] == len(c1s)      ? : True\n",
      "mrw.shape[1] == len(c2s)      ? : True\n",
      "mrw.shape[2] == len(Ls)       ? : True\n",
      "mrw.shape[3] == len(epsilons) ? : True\n",
      "mrw.shape[4] == N             ? : True\n"
     ]
    }
   ],
   "source": [
    "print(f\"{mrw.shape = !s}\")\n",
    "print(f\"mrw.shape[0] == len(c1s)      ? : {mrw.shape[0] == len(c1s)}\")\n",
    "print(f\"mrw.shape[1] == len(c2s)      ? : {mrw.shape[1] == len(c2s)}\")\n",
    "print(f\"mrw.shape[2] == len(Ls)       ? : {mrw.shape[2] == len(Ls)}\")\n",
    "print(f\"mrw.shape[3] == len(epsilons) ? : {mrw.shape[3] == len(epsilons)}\")\n",
    "print(f\"mrw.shape[4] == N             ? : {mrw.shape[4] == N}\")"
   ]
  },
  {
   "cell_type": "code",
   "execution_count": 10,
   "id": "3df5b155",
   "metadata": {},
   "outputs": [
    {
     "name": "stdout",
     "output_type": "stream",
     "text": [
      "(4, 4, 5, 5, 1048576)\n"
     ]
    }
   ],
   "source": [
    "print(data[\"mrw\"].shape)"
   ]
  },
  {
   "cell_type": "code",
   "execution_count": null,
   "id": "5fae5dc4",
   "metadata": {},
   "outputs": [],
   "source": []
  }
 ],
 "metadata": {
  "kernelspec": {
   "display_name": "Python 3 (ipykernel)",
   "language": "python",
   "name": "python3"
  },
  "language_info": {
   "codemirror_mode": {
    "name": "ipython",
    "version": 3
   },
   "file_extension": ".py",
   "mimetype": "text/x-python",
   "name": "python",
   "nbconvert_exporter": "python",
   "pygments_lexer": "ipython3",
   "version": "3.10.12"
  }
 },
 "nbformat": 4,
 "nbformat_minor": 5
}
