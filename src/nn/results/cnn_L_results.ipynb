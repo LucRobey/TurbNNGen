{
 "cells": [
  {
   "cell_type": "code",
   "execution_count": 1,
   "id": "49cce0d9-b301-4e6d-ab85-3fcb243346fb",
   "metadata": {},
   "outputs": [],
   "source": [
    "from torchsummary                 import summary\n",
    "from tqdm                         import tqdm\n",
    "from src.data.to_tensor           import ToTensor\n",
    "from src.data.mrw_dataset         import MRWDataset\n",
    "from src.data.create_data_loaders import create_data_loaders\n",
    "from src.nn.archs                 import CNN_L\n",
    "from src.nn.results.utils         import (get_all_predictions, analyse_predictions, \n",
    "                                            plot_distributions, plot_losses, get_MSEs)\n",
    "\n",
    "import random\n",
    "import torch\n",
    "import torch.nn           as nn\n",
    "import numpy              as np\n",
    "import src.ctes.num_ctes  as nctes\n",
    "import src.ctes.str_ctes  as sctes\n",
    "import src.ctes.path_ctes as pctes"
   ]
  },
  {
   "cell_type": "code",
   "execution_count": 2,
   "id": "4548448f",
   "metadata": {},
   "outputs": [],
   "source": [
    "builder = CNN_L"
   ]
  },
  {
   "cell_type": "code",
   "execution_count": 3,
   "id": "1e209aa7-db13-45e9-b9c8-16d77c91e939",
   "metadata": {},
   "outputs": [],
   "source": [
    "data_path = pctes.DATAPATH\n",
    "timestamp = \"2024_02_04__10_35_23\"\n",
    "arch_name = builder.__name__\n",
    "hyperparams_path = f\"../../../data/hyperparams_{arch_name}_{timestamp}.npz\"\n",
    "model_path = f\"../../../data/model_{arch_name}_{timestamp}.pt\"\n",
    "losses_path = f\"../../../data/losses_{arch_name}_{timestamp}.npz\"\n",
    "losses_img_path = f\"../../../data/losses_{arch_name}_{timestamp}.png\""
   ]
  },
  {
   "cell_type": "code",
   "execution_count": 4,
   "id": "39020f38-09b6-4381-afc7-6a79d3876aa1",
   "metadata": {},
   "outputs": [
    {
     "name": "stdout",
     "output_type": "stream",
     "text": [
      "Using device cpu\n"
     ]
    }
   ],
   "source": [
    "device = torch.device('cuda' if torch.cuda.is_available() else 'cpu')\n",
    "print('Using device ' + str(device))"
   ]
  },
  {
   "cell_type": "code",
   "execution_count": 5,
   "id": "8ecaf084-0049-4b93-8ea4-372ce6384890",
   "metadata": {},
   "outputs": [
    {
     "name": "stdout",
     "output_type": "stream",
     "text": [
      "NpzFile '../../../data/hyperparams_CNN_L_2024_02_04__10_35_23.npz' with keys: len, test_size, valid_size, epochs, batch_size...\n"
     ]
    }
   ],
   "source": [
    "hyperparams = np.load(hyperparams_path)\n",
    "print(hyperparams)"
   ]
  },
  {
   "cell_type": "code",
   "execution_count": 6,
   "id": "0b8761bc-f484-4977-80ec-869838ff0ed6",
   "metadata": {},
   "outputs": [],
   "source": [
    "seed = int(hyperparams[sctes.SEED])\n",
    "torch.manual_seed(seed)\n",
    "random.seed(seed)\n",
    "np.random.seed(seed)"
   ]
  },
  {
   "cell_type": "code",
   "execution_count": 7,
   "id": "95f1e91d",
   "metadata": {},
   "outputs": [
    {
     "name": "stdout",
     "output_type": "stream",
     "text": [
      "==========================================================================================\n",
      "Layer (type:depth-idx)                   Output Shape              Param #\n",
      "==========================================================================================\n",
      "├─Sequential: 1-1                        [-1, 16, 32768]           --\n",
      "|    └─Conv1d: 2-1                       [-1, 16, 32768]           16\n",
      "|    └─BatchNorm1d: 2-2                  [-1, 16, 32768]           32\n",
      "|    └─ReLU: 2-3                         [-1, 16, 32768]           --\n",
      "├─Sequential: 1-2                        [-1, 32, 32767]           --\n",
      "|    └─Conv1d: 2-4                       [-1, 32, 32767]           1,024\n",
      "|    └─BatchNorm1d: 2-5                  [-1, 32, 32767]           64\n",
      "|    └─ReLU: 2-6                         [-1, 32, 32767]           --\n",
      "├─AvgPool1d: 1-3                         [-1, 32, 16384]           --\n",
      "├─Sequential: 1-4                        [-1, 64, 16381]           --\n",
      "|    └─Conv1d: 2-7                       [-1, 64, 16381]           8,192\n",
      "|    └─BatchNorm1d: 2-8                  [-1, 64, 16381]           128\n",
      "|    └─ReLU: 2-9                         [-1, 64, 16381]           --\n",
      "├─AvgPool1d: 1-5                         [-1, 64, 8191]            --\n",
      "├─Sequential: 1-6                        [-1, 128, 8184]           --\n",
      "|    └─Conv1d: 2-10                      [-1, 128, 8184]           65,536\n",
      "|    └─BatchNorm1d: 2-11                 [-1, 128, 8184]           256\n",
      "|    └─ReLU: 2-12                        [-1, 128, 8184]           --\n",
      "├─AvgPool1d: 1-7                         [-1, 128, 4092]           --\n",
      "├─Sequential: 1-8                        [-1, 256, 4077]           --\n",
      "|    └─Conv1d: 2-13                      [-1, 256, 4077]           524,288\n",
      "|    └─BatchNorm1d: 2-14                 [-1, 256, 4077]           512\n",
      "|    └─ReLU: 2-15                        [-1, 256, 4077]           --\n",
      "├─AvgPool1d: 1-9                         [-1, 256, 2039]           --\n",
      "├─Sequential: 1-10                       [-1, 256, 2008]           --\n",
      "|    └─Conv1d: 2-16                      [-1, 256, 2008]           2,097,152\n",
      "|    └─BatchNorm1d: 2-17                 [-1, 256, 2008]           512\n",
      "|    └─ReLU: 2-18                        [-1, 256, 2008]           --\n",
      "├─AvgPool1d: 1-11                        [-1, 256, 1004]           --\n",
      "├─Sequential: 1-12                       [-1, 256, 941]            --\n",
      "|    └─Conv1d: 2-19                      [-1, 256, 941]            4,194,304\n",
      "|    └─BatchNorm1d: 2-20                 [-1, 256, 941]            512\n",
      "|    └─ReLU: 2-21                        [-1, 256, 941]            --\n",
      "├─Sequential: 1-13                       [-1, 256, 941]            --\n",
      "|    └─ConvTranspose1d: 2-22             [-1, 256, 941]            196,608\n",
      "|    └─BatchNorm1d: 2-23                 [-1, 256, 941]            512\n",
      "|    └─ReLU: 2-24                        [-1, 256, 941]            --\n",
      "├─Sequential: 1-14                       [-1, 128, 941]            --\n",
      "|    └─ConvTranspose1d: 2-25             [-1, 128, 941]            98,304\n",
      "|    └─BatchNorm1d: 2-26                 [-1, 128, 941]            256\n",
      "|    └─ReLU: 2-27                        [-1, 128, 941]            --\n",
      "├─Sequential: 1-15                       [-1, 64, 941]             --\n",
      "|    └─ConvTranspose1d: 2-28             [-1, 64, 941]             24,576\n",
      "|    └─BatchNorm1d: 2-29                 [-1, 64, 941]             128\n",
      "|    └─ReLU: 2-30                        [-1, 64, 941]             --\n",
      "├─Sequential: 1-16                       [-1, 32, 941]             --\n",
      "|    └─ConvTranspose1d: 2-31             [-1, 32, 941]             6,144\n",
      "|    └─BatchNorm1d: 2-32                 [-1, 32, 941]             64\n",
      "|    └─ReLU: 2-33                        [-1, 32, 941]             --\n",
      "├─Sequential: 1-17                       [-1, 16, 941]             --\n",
      "|    └─ConvTranspose1d: 2-34             [-1, 16, 941]             1,536\n",
      "|    └─BatchNorm1d: 2-35                 [-1, 16, 941]             32\n",
      "|    └─ReLU: 2-36                        [-1, 16, 941]             --\n",
      "├─Sequential: 1-18                       [-1, 8, 941]              --\n",
      "|    └─ConvTranspose1d: 2-37             [-1, 8, 941]              384\n",
      "|    └─BatchNorm1d: 2-38                 [-1, 8, 941]              16\n",
      "|    └─ReLU: 2-39                        [-1, 8, 941]              --\n",
      "├─Sequential: 1-19                       [-1, 4, 941]              --\n",
      "|    └─ConvTranspose1d: 2-40             [-1, 4, 941]              96\n",
      "|    └─BatchNorm1d: 2-41                 [-1, 4, 941]              8\n",
      "|    └─ReLU: 2-42                        [-1, 4, 941]              --\n",
      "├─Flatten: 1-20                          [-1, 3764]                --\n",
      "├─Linear: 1-21                           [-1, 1]                   3,765\n",
      "├─Softplus: 1-22                         [-1, 1]                   --\n",
      "==========================================================================================\n",
      "Total params: 7,224,957\n",
      "Trainable params: 7,224,957\n",
      "Non-trainable params: 0\n",
      "Total mult-adds (G): 11.32\n",
      "==========================================================================================\n",
      "Input size (MB): 0.12\n",
      "Forward/backward pass size (MB): 90.72\n",
      "Params size (MB): 27.56\n",
      "Estimated Total Size (MB): 118.41\n",
      "==========================================================================================\n"
     ]
    },
    {
     "data": {
      "text/plain": [
       "==========================================================================================\n",
       "Layer (type:depth-idx)                   Output Shape              Param #\n",
       "==========================================================================================\n",
       "├─Sequential: 1-1                        [-1, 16, 32768]           --\n",
       "|    └─Conv1d: 2-1                       [-1, 16, 32768]           16\n",
       "|    └─BatchNorm1d: 2-2                  [-1, 16, 32768]           32\n",
       "|    └─ReLU: 2-3                         [-1, 16, 32768]           --\n",
       "├─Sequential: 1-2                        [-1, 32, 32767]           --\n",
       "|    └─Conv1d: 2-4                       [-1, 32, 32767]           1,024\n",
       "|    └─BatchNorm1d: 2-5                  [-1, 32, 32767]           64\n",
       "|    └─ReLU: 2-6                         [-1, 32, 32767]           --\n",
       "├─AvgPool1d: 1-3                         [-1, 32, 16384]           --\n",
       "├─Sequential: 1-4                        [-1, 64, 16381]           --\n",
       "|    └─Conv1d: 2-7                       [-1, 64, 16381]           8,192\n",
       "|    └─BatchNorm1d: 2-8                  [-1, 64, 16381]           128\n",
       "|    └─ReLU: 2-9                         [-1, 64, 16381]           --\n",
       "├─AvgPool1d: 1-5                         [-1, 64, 8191]            --\n",
       "├─Sequential: 1-6                        [-1, 128, 8184]           --\n",
       "|    └─Conv1d: 2-10                      [-1, 128, 8184]           65,536\n",
       "|    └─BatchNorm1d: 2-11                 [-1, 128, 8184]           256\n",
       "|    └─ReLU: 2-12                        [-1, 128, 8184]           --\n",
       "├─AvgPool1d: 1-7                         [-1, 128, 4092]           --\n",
       "├─Sequential: 1-8                        [-1, 256, 4077]           --\n",
       "|    └─Conv1d: 2-13                      [-1, 256, 4077]           524,288\n",
       "|    └─BatchNorm1d: 2-14                 [-1, 256, 4077]           512\n",
       "|    └─ReLU: 2-15                        [-1, 256, 4077]           --\n",
       "├─AvgPool1d: 1-9                         [-1, 256, 2039]           --\n",
       "├─Sequential: 1-10                       [-1, 256, 2008]           --\n",
       "|    └─Conv1d: 2-16                      [-1, 256, 2008]           2,097,152\n",
       "|    └─BatchNorm1d: 2-17                 [-1, 256, 2008]           512\n",
       "|    └─ReLU: 2-18                        [-1, 256, 2008]           --\n",
       "├─AvgPool1d: 1-11                        [-1, 256, 1004]           --\n",
       "├─Sequential: 1-12                       [-1, 256, 941]            --\n",
       "|    └─Conv1d: 2-19                      [-1, 256, 941]            4,194,304\n",
       "|    └─BatchNorm1d: 2-20                 [-1, 256, 941]            512\n",
       "|    └─ReLU: 2-21                        [-1, 256, 941]            --\n",
       "├─Sequential: 1-13                       [-1, 256, 941]            --\n",
       "|    └─ConvTranspose1d: 2-22             [-1, 256, 941]            196,608\n",
       "|    └─BatchNorm1d: 2-23                 [-1, 256, 941]            512\n",
       "|    └─ReLU: 2-24                        [-1, 256, 941]            --\n",
       "├─Sequential: 1-14                       [-1, 128, 941]            --\n",
       "|    └─ConvTranspose1d: 2-25             [-1, 128, 941]            98,304\n",
       "|    └─BatchNorm1d: 2-26                 [-1, 128, 941]            256\n",
       "|    └─ReLU: 2-27                        [-1, 128, 941]            --\n",
       "├─Sequential: 1-15                       [-1, 64, 941]             --\n",
       "|    └─ConvTranspose1d: 2-28             [-1, 64, 941]             24,576\n",
       "|    └─BatchNorm1d: 2-29                 [-1, 64, 941]             128\n",
       "|    └─ReLU: 2-30                        [-1, 64, 941]             --\n",
       "├─Sequential: 1-16                       [-1, 32, 941]             --\n",
       "|    └─ConvTranspose1d: 2-31             [-1, 32, 941]             6,144\n",
       "|    └─BatchNorm1d: 2-32                 [-1, 32, 941]             64\n",
       "|    └─ReLU: 2-33                        [-1, 32, 941]             --\n",
       "├─Sequential: 1-17                       [-1, 16, 941]             --\n",
       "|    └─ConvTranspose1d: 2-34             [-1, 16, 941]             1,536\n",
       "|    └─BatchNorm1d: 2-35                 [-1, 16, 941]             32\n",
       "|    └─ReLU: 2-36                        [-1, 16, 941]             --\n",
       "├─Sequential: 1-18                       [-1, 8, 941]              --\n",
       "|    └─ConvTranspose1d: 2-37             [-1, 8, 941]              384\n",
       "|    └─BatchNorm1d: 2-38                 [-1, 8, 941]              16\n",
       "|    └─ReLU: 2-39                        [-1, 8, 941]              --\n",
       "├─Sequential: 1-19                       [-1, 4, 941]              --\n",
       "|    └─ConvTranspose1d: 2-40             [-1, 4, 941]              96\n",
       "|    └─BatchNorm1d: 2-41                 [-1, 4, 941]              8\n",
       "|    └─ReLU: 2-42                        [-1, 4, 941]              --\n",
       "├─Flatten: 1-20                          [-1, 3764]                --\n",
       "├─Linear: 1-21                           [-1, 1]                   3,765\n",
       "├─Softplus: 1-22                         [-1, 1]                   --\n",
       "==========================================================================================\n",
       "Total params: 7,224,957\n",
       "Trainable params: 7,224,957\n",
       "Non-trainable params: 0\n",
       "Total mult-adds (G): 11.32\n",
       "==========================================================================================\n",
       "Input size (MB): 0.12\n",
       "Forward/backward pass size (MB): 90.72\n",
       "Params size (MB): 27.56\n",
       "Estimated Total Size (MB): 118.41\n",
       "=========================================================================================="
      ]
     },
     "execution_count": 7,
     "metadata": {},
     "output_type": "execute_result"
    }
   ],
   "source": [
    "sample_size = nctes.LEN_SAMPLE\n",
    "model = builder(input_size=sample_size, dropout_probs=None)\n",
    "model.to(device=device)\n",
    "model.load_state_dict(torch.load(model_path, map_location=device))\n",
    "summary(model, (1, sample_size))"
   ]
  },
  {
   "cell_type": "code",
   "execution_count": 8,
   "id": "202320bc-5e58-43e5-8ab6-1d3fdadc0f14",
   "metadata": {},
   "outputs": [],
   "source": [
    "transform = ToTensor()\n",
    "labels    = hyperparams.get(sctes.LABELS, [sctes.C1, sctes.C2, sctes.L, sctes.EPSILON])\n",
    "\n",
    "data      = MRWDataset(data_path, transform, sample_size, labels)"
   ]
  },
  {
   "cell_type": "code",
   "execution_count": 9,
   "id": "362bc955-42da-4c62-8fac-4e7ddd7ec5d9",
   "metadata": {},
   "outputs": [],
   "source": [
    "batch_size = int(hyperparams[sctes.BATCH_SIZE])\n",
    "valid_size = float(hyperparams[sctes.VALID_SIZE])\n",
    "test_size = float(hyperparams[sctes.TEST_SIZE])\n",
    "\n",
    "train_loader, valid_loader, test_loader = create_data_loaders(batch_size, valid_size, test_size, data)"
   ]
  },
  {
   "cell_type": "code",
   "execution_count": 10,
   "id": "e69cdfeb-da88-4f16-9dd7-582c576f2159",
   "metadata": {},
   "outputs": [],
   "source": [
    "losses = np.load(losses_path)\n",
    "train_losses = losses[sctes.TRAIN]\n",
    "valid_losses = losses[sctes.VAL]"
   ]
  },
  {
   "cell_type": "code",
   "execution_count": 11,
   "id": "5b30e607-5a3f-4315-83b7-dc16e36d2c80",
   "metadata": {},
   "outputs": [
    {
     "name": "stdout",
     "output_type": "stream",
     "text": [
      "criterion = MSELoss()\n"
     ]
    }
   ],
   "source": [
    "criterion = nn.MSELoss()\n",
    "print(f\"{criterion = }\")"
   ]
  },
  {
   "cell_type": "code",
   "execution_count": 12,
   "id": "41cf1305-04b4-4659-847a-2f7f6a1ffd38",
   "metadata": {},
   "outputs": [
    {
     "name": "stdout",
     "output_type": "stream",
     "text": [
      "Model name       = lr = 0.00001\n",
      "Sample length    = 32768\n",
      "Total samples    = 12800\n",
      "Train samples    = 8192\n",
      "Valid samples    = 2048\n",
      "Test samples     = 2560\n",
      "Batch size       = 6\n",
      "Number of epochs = 50\n",
      "Loss             = MSELoss()\n",
      "Optimizer        = Adam (\n",
      "Parameter Group 0\n",
      "    amsgrad: False\n",
      "    betas: (0.9, 0.999)\n",
      "    capturable: False\n",
      "    differentiable: False\n",
      "    eps: 1e-08\n",
      "    foreach: None\n",
      "    fused: None\n",
      "    lr: 1e-05\n",
      "    maximize: False\n",
      "    weight_decay: 0\n",
      ")\n",
      "Learning rate    = 1e-05\n",
      "Seed             = 42.0\n",
      "Labels           = ['L']\n"
     ]
    }
   ],
   "source": [
    "data_len = int(hyperparams[sctes.LEN])\n",
    "test_len = int(hyperparams[sctes.LEN]*hyperparams[sctes.TEST_SIZE])\n",
    "valid_len = int((hyperparams[sctes.LEN] - hyperparams[sctes.LEN]*hyperparams[sctes.TEST_SIZE])*hyperparams[sctes.VALID_SIZE])\n",
    "train_len = data_len - test_len - valid_len\n",
    "\n",
    "if sctes.MODEL_NAME in hyperparams :\n",
    "    print(f\"Model name       = {hyperparams[sctes.MODEL_NAME]}\")\n",
    "print(f\"Sample length    = {nctes.LEN_SAMPLE}\")\n",
    "print(f\"Total samples    = {data_len}\")\n",
    "print(f\"Train samples    = {train_len}\")\n",
    "print(f\"Valid samples    = {valid_len}\")\n",
    "print(f\"Test samples     = {test_len}\")\n",
    "print(f\"Batch size       = {int(hyperparams[sctes.BATCH_SIZE])}\")\n",
    "print(f\"Number of epochs = {int(hyperparams[sctes.EPOCHS])}\")\n",
    "print(f\"Loss             = {''.join(hyperparams[sctes.CRITERION].tolist())}\")\n",
    "print(f\"Optimizer        = {''.join(hyperparams[sctes.OPTIMIZER].tolist())}\")\n",
    "print(f\"Learning rate    = {float(hyperparams[sctes.LR])}\")\n",
    "print(f\"Seed             = {float(hyperparams[sctes.SEED])}\")\n",
    "if sctes.DROPOUT_PROBS in hyperparams:\n",
    "    print(f\"Dropout probas    = {hyperparams[sctes.DROPOUT_PROBS].tolist()}\")\n",
    "print(f\"Labels           = {hyperparams.get(sctes.LABELS, [sctes.C1, sctes.C2, sctes.L, sctes.EPSILON])}\")"
   ]
  },
  {
   "cell_type": "code",
   "execution_count": 13,
   "id": "02e6896d-9cf8-4348-8201-5592d623dbc1",
   "metadata": {},
   "outputs": [
    {
     "data": {
      "image/png": "[encoded data removed]",
      "text/plain": [
       "<Figure size 640x480 with 1 Axes>"
      ]
     },
     "metadata": {},
     "output_type": "display_data"
    }
   ],
   "source": [
    "plot_losses(len(train_losses), [train_losses, valid_losses], [\"Train\", \"Val\"])\n",
    "# plt.savefig(losses_img_path)"
   ]
  },
  {
   "cell_type": "code",
   "execution_count": null,
   "id": "f6a6c626-cb41-4a45-bb44-6d92d065258d",
   "metadata": {},
   "outputs": [
    {
     "name": "stderr",
     "output_type": "stream",
     "text": [
      " 82%|█████████████████████████████████████████████████████████████████▊              | 351/427 [02:07<00:27,  2.74it/s]"
     ]
    }
   ],
   "source": [
    "targets, preds, output_losses  = get_all_predictions(model, test_loader, device, criterion, labels)"
   ]
  },
  {
   "cell_type": "code",
   "execution_count": null,
   "id": "eb6ed2ed-a8c4-4f6a-b74e-48f6a9160aed",
   "metadata": {},
   "outputs": [],
   "source": [
    "analyse_predictions(targets, preds)"
   ]
  },
  {
   "cell_type": "code",
   "execution_count": null,
   "id": "43933961-25b1-4513-b9ff-b424ec2f6de2",
   "metadata": {},
   "outputs": [],
   "source": [
    "plot_predictions(targets, preds, labels)"
   ]
  },
  {
   "cell_type": "code",
   "execution_count": null,
   "id": "9df10dd5-2ff0-4d63-8a70-3df1697e983e",
   "metadata": {},
   "outputs": [],
   "source": [
    "total_test_loss, mean_output_losses = get_MSEs(targets, preds, output_losses, labels, device, criterion)\n",
    "print(\"Total Test MSE = {:0.4f}\".format(total_test_loss))\n",
    "print(\"\")\n",
    "print(\"Test MSE for each output:\")\n",
    "for key, value in mean_output_losses.items():\n",
    "    print(f\"{key}: {value:.4f}\")"
   ]
  },
  {
   "cell_type": "code",
   "execution_count": 42,
   "id": "8b7c0987-dddb-4c37-9c53-f76e37e05eb4",
   "metadata": {},
   "outputs": [
    {
     "name": "stdout",
     "output_type": "stream",
     "text": [
      "10 Worst Results ==>\n",
      "              c1         c2         L         epsilon\n",
      "Target      = ['1.0000']\n",
      "Prediction  = ['0.1565']\n",
      "MSE         = 0.7115\n",
      "\n",
      "              c1         c2         L         epsilon\n",
      "Target      = ['1.0000']\n",
      "Prediction  = ['0.1988']\n",
      "MSE         = 0.6419\n",
      "\n",
      "              c1         c2         L         epsilon\n",
      "Target      = ['1.0000']\n",
      "Prediction  = ['0.2375']\n",
      "MSE         = 0.5815\n",
      "\n",
      "              c1         c2         L         epsilon\n",
      "Target      = ['1.0000']\n",
      "Prediction  = ['0.3500']\n",
      "MSE         = 0.4225\n",
      "\n",
      "              c1         c2         L         epsilon\n",
      "Target      = ['1.0000']\n",
      "Prediction  = ['0.3830']\n",
      "MSE         = 0.3806\n",
      "\n",
      "              c1         c2         L         epsilon\n",
      "Target      = ['1.0000']\n",
      "Prediction  = ['0.3943']\n",
      "MSE         = 0.3669\n",
      "\n",
      "              c1         c2         L         epsilon\n",
      "Target      = ['1.0000']\n",
      "Prediction  = ['0.3995']\n",
      "MSE         = 0.3606\n",
      "\n",
      "              c1         c2         L         epsilon\n",
      "Target      = ['1.0000']\n",
      "Prediction  = ['0.4094']\n",
      "MSE         = 0.3488\n",
      "\n",
      "              c1         c2         L         epsilon\n",
      "Target      = ['1.0000']\n",
      "Prediction  = ['0.4409']\n",
      "MSE         = 0.3125\n",
      "\n",
      "              c1         c2         L         epsilon\n",
      "Target      = ['1.0000']\n",
      "Prediction  = ['0.4424']\n",
      "MSE         = 0.3109\n",
      "\n"
     ]
    }
   ],
   "source": [
    "n_show = 10\n",
    "print(f\"{n_show} Worst Results ==>\")\n",
    "for i in range(n_show):\n",
    "    print(f\"              c1         c2         L         epsilon\")\n",
    "    print(f\"Target      = {['{:0.4f}'.format(f) for f in targets[i]]}\")\n",
    "    print(f\"Prediction  = {['{:0.4f}'.format(f) for f in preds[i]]}\")\n",
    "    print(f\"MSE         = {'{:0.4f}'.format(test_losses[i])}\")\n",
    "    print()"
   ]
  },
  {
   "cell_type": "code",
   "execution_count": 43,
   "id": "e9b7ade1-b91a-449c-a449-f30e33bb5d91",
   "metadata": {},
   "outputs": [
    {
     "name": "stdout",
     "output_type": "stream",
     "text": [
      "10 Best Results ==>\n",
      "              ['L    ']\n",
      "Target      = ['0.2500']\n",
      "Prediction  = ['0.2511']\n",
      "WeightedMSE = 0.0000\n",
      "\n",
      "              ['L    ']\n",
      "Target      = ['1.0000']\n",
      "Prediction  = ['0.9990']\n",
      "WeightedMSE = 0.0000\n",
      "\n",
      "              ['L    ']\n",
      "Target      = ['0.5000']\n",
      "Prediction  = ['0.4990']\n",
      "WeightedMSE = 0.0000\n",
      "\n",
      "              ['L    ']\n",
      "Target      = ['0.5000']\n",
      "Prediction  = ['0.5010']\n",
      "WeightedMSE = 0.0000\n",
      "\n",
      "              ['L    ']\n",
      "Target      = ['0.7500']\n",
      "Prediction  = ['0.7508']\n",
      "WeightedMSE = 0.0000\n",
      "\n",
      "              ['L    ']\n",
      "Target      = ['0.7500']\n",
      "Prediction  = ['0.7492']\n",
      "WeightedMSE = 0.0000\n",
      "\n",
      "              ['L    ']\n",
      "Target      = ['0.7500']\n",
      "Prediction  = ['0.7494']\n",
      "WeightedMSE = 0.0000\n",
      "\n",
      "              ['L    ']\n",
      "Target      = ['0.5000']\n",
      "Prediction  = ['0.4995']\n",
      "WeightedMSE = 0.0000\n",
      "\n",
      "              ['L    ']\n",
      "Target      = ['0.5000']\n",
      "Prediction  = ['0.5005']\n",
      "WeightedMSE = 0.0000\n",
      "\n",
      "              ['L    ']\n",
      "Target      = ['0.2500']\n",
      "Prediction  = ['0.2498']\n",
      "WeightedMSE = 0.0000\n",
      "\n"
     ]
    }
   ],
   "source": [
    "n_show = 10\n",
    "print(f\"{n_show} Best Results ==>\")\n",
    "for i in range(n_show, 0, -1):\n",
    "    print(f\"              {[label + '    ' for label in labels]}\")\n",
    "    print(f\"Target      = {['{:0.4f}'.format(f) for f in targets[-i]]}\")\n",
    "    print(f\"Prediction  = {['{:0.4f}'.format(f) for f in preds[-i]]}\")\n",
    "    print(f\"WeightedMSE = {'{:0.4f}'.format(test_losses[-i])}\")\n",
    "    print()"
   ]
  },
  {
   "cell_type": "code",
   "execution_count": null,
   "id": "e4e6d8e4-34f1-474d-9404-3dd9ce7839d3",
   "metadata": {},
   "outputs": [],
   "source": []
  }
 ],
 "metadata": {
  "kernelspec": {
   "display_name": "Python 3 (ipykernel)",
   "language": "python",
   "name": "python3"
  },
  "language_info": {
   "codemirror_mode": {
    "name": "ipython",
    "version": 3
   },
   "file_extension": ".py",
   "mimetype": "text/x-python",
   "name": "python",
   "nbconvert_exporter": "python",
   "pygments_lexer": "ipython3",
   "version": "3.11.5"
  }
 },
 "nbformat": 4,
 "nbformat_minor": 5
}
