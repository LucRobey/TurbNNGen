{
 "cells": [
  {
   "cell_type": "code",
   "execution_count": 1,
   "id": "49cce0d9-b301-4e6d-ab85-3fcb243346fb",
   "metadata": {},
   "outputs": [],
   "source": [
    "from torchsummary                 import summary\n",
    "from tqdm                         import tqdm\n",
    "from src.data.to_tensor           import ToTensor\n",
    "from src.data.mrw_dataset         import MRWDataset\n",
    "from src.data.create_data_loaders import create_data_loaders\n",
    "from src.nn.archs                 import CNN_C1\n",
    "from src.nn.results.utils         import (get_all_predictions, analyse_predictions, \n",
    "                                            plot_distributions, plot_losses, get_MSEs, plot_correlation)\n",
    "\n",
    "import random\n",
    "import torch\n",
    "import torch.nn           as nn\n",
    "import numpy              as np\n",
    "import src.ctes.num_ctes  as nctes\n",
    "import src.ctes.str_ctes  as sctes\n",
    "import src.nn.path_ctes as pctes"
   ]
  },
  {
   "cell_type": "markdown",
   "id": "389887e2",
   "metadata": {},
   "source": [
    "# Model choice"
   ]
  },
  {
   "cell_type": "code",
   "execution_count": 2,
   "id": "4548448f",
   "metadata": {},
   "outputs": [],
   "source": [
    "builder   = CNN_C1\n",
    "timestamp = \"2024_01_12__18_33_49\"\n",
    "version   = \"best\"\n",
    "data_path = pctes.DATAPATH"
   ]
  },
  {
   "cell_type": "code",
   "execution_count": 3,
   "id": "1e209aa7-db13-45e9-b9c8-16d77c91e939",
   "metadata": {},
   "outputs": [],
   "source": [
    "arch_name = builder.__name__\n",
    "hyperparams_path = f\"../../../data/models/hyperparams_{arch_name}_{timestamp}.npz\"\n",
    "model_path = f\"../../../data/models/model_{arch_name}_{timestamp}_{version}.pt\"\n",
    "losses_path = f\"../../../data/models/losses_{arch_name}_{timestamp}.npz\"\n",
    "losses_img_path = f\"../../../data/models/losses_{arch_name}_{timestamp}.png\""
   ]
  },
  {
   "cell_type": "markdown",
   "id": "893da4bd",
   "metadata": {},
   "source": [
    "# Hyperparameters"
   ]
  },
  {
   "cell_type": "code",
   "execution_count": 4,
   "id": "93b37397",
   "metadata": {},
   "outputs": [
    {
     "name": "stdout",
     "output_type": "stream",
     "text": [
      "NpzFile '../../../data/models/hyperparams_CNN_C1_2024_01_12__18_33_49.npz' with keys: len, test_size, valid_size, epochs, batch_size...\n"
     ]
    }
   ],
   "source": [
    "hyperparams = np.load(hyperparams_path)\n",
    "print(hyperparams)"
   ]
  },
  {
   "cell_type": "code",
   "execution_count": 5,
   "id": "ac8987d0",
   "metadata": {},
   "outputs": [
    {
     "name": "stdout",
     "output_type": "stream",
     "text": [
      "Model name       = Variable dropout probas and L2 regularization\n",
      "Sample length    = 32768\n",
      "Total samples    = 12800\n",
      "Train samples    = 8192\n",
      "Valid samples    = 2048\n",
      "Test samples     = 2560\n",
      "Batch size       = 6\n",
      "Number of epochs = 2\n",
      "Loss             = MSELoss()\n",
      "Optimizer        = Adam (\n",
      "Parameter Group 0\n",
      "    amsgrad: False\n",
      "    betas: (0.9, 0.999)\n",
      "    capturable: False\n",
      "    differentiable: False\n",
      "    eps: 1e-08\n",
      "    foreach: None\n",
      "    fused: None\n",
      "    lr: 0.001\n",
      "    maximize: False\n",
      "    weight_decay: 1e-05\n",
      ")\n",
      "Seed             = 42.0\n",
      "Dropout probas    = [0.7, 0.7, 0.7, 0.7, 0.6, 0.6, 0.5, 0.5, 0.5, 0.5, 0.6, 0.6, 0.7, 0.7]\n",
      "Labels           = ['c1']\n"
     ]
    }
   ],
   "source": [
    "data_len = int(hyperparams[sctes.LEN])\n",
    "test_len = int(hyperparams[sctes.LEN]*hyperparams[sctes.TEST_SIZE])\n",
    "valid_len = int((hyperparams[sctes.LEN] - hyperparams[sctes.LEN]*hyperparams[sctes.TEST_SIZE])*hyperparams[sctes.VALID_SIZE])\n",
    "train_len = data_len - test_len - valid_len\n",
    "\n",
    "if sctes.MODEL_NAME in hyperparams :\n",
    "    print(f\"Model name       = {hyperparams[sctes.MODEL_NAME]}\")\n",
    "print(f\"Sample length    = {nctes.LEN_SAMPLE}\")\n",
    "print(f\"Total samples    = {data_len}\")\n",
    "print(f\"Train samples    = {train_len}\")\n",
    "print(f\"Valid samples    = {valid_len}\")\n",
    "print(f\"Test samples     = {test_len}\")\n",
    "print(f\"Batch size       = {int(hyperparams[sctes.BATCH_SIZE])}\")\n",
    "print(f\"Number of epochs = {int(hyperparams[sctes.EPOCHS])}\")\n",
    "print(f\"Loss             = {''.join(hyperparams[sctes.CRITERION].tolist())}\")\n",
    "print(f\"Optimizer        = {''.join(hyperparams[sctes.OPTIMIZER].tolist())}\")\n",
    "# print(f\"Learning rate    = {float(hyperparams[sctes.LR])}\")\n",
    "print(f\"Seed             = {float(hyperparams[sctes.SEED])}\")\n",
    "if sctes.DROPOUT_PROBS in hyperparams:\n",
    "    print(f\"Dropout probas    = {hyperparams[sctes.DROPOUT_PROBS].tolist()}\")\n",
    "print(f\"Labels           = {builder.LABELS}\")"
   ]
  },
  {
   "cell_type": "code",
   "execution_count": 6,
   "id": "0b8761bc-f484-4977-80ec-869838ff0ed6",
   "metadata": {},
   "outputs": [],
   "source": [
    "seed = int(hyperparams[sctes.SEED])\n",
    "torch.manual_seed(seed)\n",
    "random.seed(seed)\n",
    "np.random.seed(seed)"
   ]
  },
  {
   "cell_type": "markdown",
   "id": "b5e3eb0c",
   "metadata": {},
   "source": [
    "# Model Summary"
   ]
  },
  {
   "cell_type": "code",
   "execution_count": 7,
   "id": "0ca13063",
   "metadata": {},
   "outputs": [
    {
     "name": "stdout",
     "output_type": "stream",
     "text": [
      "Using device cuda\n"
     ]
    }
   ],
   "source": [
    "device = torch.device('cuda' if torch.cuda.is_available() else 'cpu')\n",
    "print('Using device ' + str(device))"
   ]
  },
  {
   "cell_type": "code",
   "execution_count": 8,
   "id": "95f1e91d",
   "metadata": {},
   "outputs": [
    {
     "name": "stdout",
     "output_type": "stream",
     "text": [
      "==========================================================================================\n",
      "Layer (type:depth-idx)                   Output Shape              Param #\n",
      "==========================================================================================\n",
      "├─Sequential: 1-1                        [-1, 16, 32768]           --\n",
      "|    └─Conv1d: 2-1                       [-1, 16, 32768]           16\n",
      "|    └─BatchNorm1d: 2-2                  [-1, 16, 32768]           32\n",
      "|    └─ReLU: 2-3                         [-1, 16, 32768]           --\n",
      "├─ModuleList: 1                          []                        --\n",
      "|    └─Dropout: 2-4                      [-1, 16, 32768]           --\n",
      "├─Sequential: 1-2                        [-1, 32, 32767]           --\n",
      "|    └─Conv1d: 2-5                       [-1, 32, 32767]           1,024\n",
      "|    └─BatchNorm1d: 2-6                  [-1, 32, 32767]           64\n",
      "|    └─ReLU: 2-7                         [-1, 32, 32767]           --\n",
      "├─AvgPool1d: 1-3                         [-1, 32, 16384]           --\n",
      "├─ModuleList: 1                          []                        --\n",
      "|    └─Dropout: 2-8                      [-1, 32, 16384]           --\n",
      "├─Sequential: 1-4                        [-1, 64, 16381]           --\n",
      "|    └─Conv1d: 2-9                       [-1, 64, 16381]           8,192\n",
      "|    └─BatchNorm1d: 2-10                 [-1, 64, 16381]           128\n",
      "|    └─ReLU: 2-11                        [-1, 64, 16381]           --\n",
      "├─AvgPool1d: 1-5                         [-1, 64, 8191]            --\n",
      "├─ModuleList: 1                          []                        --\n",
      "|    └─Dropout: 2-12                     [-1, 64, 8191]            --\n",
      "├─Sequential: 1-6                        [-1, 128, 8184]           --\n",
      "|    └─Conv1d: 2-13                      [-1, 128, 8184]           65,536\n",
      "|    └─BatchNorm1d: 2-14                 [-1, 128, 8184]           256\n",
      "|    └─ReLU: 2-15                        [-1, 128, 8184]           --\n",
      "├─AvgPool1d: 1-7                         [-1, 128, 4092]           --\n",
      "├─ModuleList: 1                          []                        --\n",
      "|    └─Dropout: 2-16                     [-1, 128, 4092]           --\n",
      "├─Sequential: 1-8                        [-1, 256, 4077]           --\n",
      "|    └─Conv1d: 2-17                      [-1, 256, 4077]           524,288\n",
      "|    └─BatchNorm1d: 2-18                 [-1, 256, 4077]           512\n",
      "|    └─ReLU: 2-19                        [-1, 256, 4077]           --\n",
      "├─AvgPool1d: 1-9                         [-1, 256, 2039]           --\n",
      "├─ModuleList: 1                          []                        --\n",
      "|    └─Dropout: 2-20                     [-1, 256, 2039]           --\n",
      "├─Sequential: 1-10                       [-1, 256, 2008]           --\n",
      "|    └─Conv1d: 2-21                      [-1, 256, 2008]           2,097,152\n",
      "|    └─BatchNorm1d: 2-22                 [-1, 256, 2008]           512\n",
      "|    └─ReLU: 2-23                        [-1, 256, 2008]           --\n",
      "├─AvgPool1d: 1-11                        [-1, 256, 1004]           --\n",
      "├─ModuleList: 1                          []                        --\n",
      "|    └─Dropout: 2-24                     [-1, 256, 1004]           --\n",
      "├─Sequential: 1-12                       [-1, 256, 941]            --\n",
      "|    └─Conv1d: 2-25                      [-1, 256, 941]            4,194,304\n",
      "|    └─BatchNorm1d: 2-26                 [-1, 256, 941]            512\n",
      "|    └─ReLU: 2-27                        [-1, 256, 941]            --\n",
      "├─ModuleList: 1                          []                        --\n",
      "|    └─Dropout: 2-28                     [-1, 256, 941]            --\n",
      "├─Sequential: 1-13                       [-1, 256, 941]            --\n",
      "|    └─ConvTranspose1d: 2-29             [-1, 256, 941]            196,608\n",
      "|    └─BatchNorm1d: 2-30                 [-1, 256, 941]            512\n",
      "|    └─ReLU: 2-31                        [-1, 256, 941]            --\n",
      "├─ModuleList: 1                          []                        --\n",
      "|    └─Dropout: 2-32                     [-1, 256, 941]            --\n",
      "├─Sequential: 1-14                       [-1, 128, 941]            --\n",
      "|    └─ConvTranspose1d: 2-33             [-1, 128, 941]            98,304\n",
      "|    └─BatchNorm1d: 2-34                 [-1, 128, 941]            256\n",
      "|    └─ReLU: 2-35                        [-1, 128, 941]            --\n",
      "├─ModuleList: 1                          []                        --\n",
      "|    └─Dropout: 2-36                     [-1, 128, 941]            --\n",
      "├─Sequential: 1-15                       [-1, 64, 941]             --\n",
      "|    └─ConvTranspose1d: 2-37             [-1, 64, 941]             24,576\n",
      "|    └─BatchNorm1d: 2-38                 [-1, 64, 941]             128\n",
      "|    └─ReLU: 2-39                        [-1, 64, 941]             --\n",
      "├─ModuleList: 1                          []                        --\n",
      "|    └─Dropout: 2-40                     [-1, 64, 941]             --\n",
      "├─Sequential: 1-16                       [-1, 32, 941]             --\n",
      "|    └─ConvTranspose1d: 2-41             [-1, 32, 941]             6,144\n",
      "|    └─BatchNorm1d: 2-42                 [-1, 32, 941]             64\n",
      "|    └─ReLU: 2-43                        [-1, 32, 941]             --\n",
      "├─ModuleList: 1                          []                        --\n",
      "|    └─Dropout: 2-44                     [-1, 32, 941]             --\n",
      "├─Sequential: 1-17                       [-1, 16, 941]             --\n",
      "|    └─ConvTranspose1d: 2-45             [-1, 16, 941]             1,536\n",
      "|    └─BatchNorm1d: 2-46                 [-1, 16, 941]             32\n",
      "|    └─ReLU: 2-47                        [-1, 16, 941]             --\n",
      "├─ModuleList: 1                          []                        --\n",
      "|    └─Dropout: 2-48                     [-1, 16, 941]             --\n",
      "├─Sequential: 1-18                       [-1, 8, 941]              --\n",
      "|    └─ConvTranspose1d: 2-49             [-1, 8, 941]              384\n",
      "|    └─BatchNorm1d: 2-50                 [-1, 8, 941]              16\n",
      "|    └─ReLU: 2-51                        [-1, 8, 941]              --\n",
      "├─ModuleList: 1                          []                        --\n",
      "|    └─Dropout: 2-52                     [-1, 8, 941]              --\n",
      "├─Sequential: 1-19                       [-1, 4, 941]              --\n",
      "|    └─ConvTranspose1d: 2-53             [-1, 4, 941]              96\n",
      "|    └─BatchNorm1d: 2-54                 [-1, 4, 941]              8\n",
      "|    └─ReLU: 2-55                        [-1, 4, 941]              --\n",
      "├─ModuleList: 1                          []                        --\n",
      "|    └─Dropout: 2-56                     [-1, 4, 941]              --\n",
      "├─Flatten: 1-20                          [-1, 3764]                --\n",
      "├─Linear: 1-21                           [-1, 1]                   3,765\n",
      "├─Softplus: 1-22                         [-1, 1]                   --\n",
      "==========================================================================================\n",
      "Total params: 7,224,957\n",
      "Trainable params: 7,224,957\n",
      "Non-trainable params: 0\n",
      "Total mult-adds (G): 11.32\n",
      "==========================================================================================\n",
      "Input size (MB): 0.12\n",
      "Forward/backward pass size (MB): 90.72\n",
      "Params size (MB): 27.56\n",
      "Estimated Total Size (MB): 118.41\n",
      "==========================================================================================\n"
     ]
    },
    {
     "data": {
      "text/plain": [
       "==========================================================================================\n",
       "Layer (type:depth-idx)                   Output Shape              Param #\n",
       "==========================================================================================\n",
       "├─Sequential: 1-1                        [-1, 16, 32768]           --\n",
       "|    └─Conv1d: 2-1                       [-1, 16, 32768]           16\n",
       "|    └─BatchNorm1d: 2-2                  [-1, 16, 32768]           32\n",
       "|    └─ReLU: 2-3                         [-1, 16, 32768]           --\n",
       "├─ModuleList: 1                          []                        --\n",
       "|    └─Dropout: 2-4                      [-1, 16, 32768]           --\n",
       "├─Sequential: 1-2                        [-1, 32, 32767]           --\n",
       "|    └─Conv1d: 2-5                       [-1, 32, 32767]           1,024\n",
       "|    └─BatchNorm1d: 2-6                  [-1, 32, 32767]           64\n",
       "|    └─ReLU: 2-7                         [-1, 32, 32767]           --\n",
       "├─AvgPool1d: 1-3                         [-1, 32, 16384]           --\n",
       "├─ModuleList: 1                          []                        --\n",
       "|    └─Dropout: 2-8                      [-1, 32, 16384]           --\n",
       "├─Sequential: 1-4                        [-1, 64, 16381]           --\n",
       "|    └─Conv1d: 2-9                       [-1, 64, 16381]           8,192\n",
       "|    └─BatchNorm1d: 2-10                 [-1, 64, 16381]           128\n",
       "|    └─ReLU: 2-11                        [-1, 64, 16381]           --\n",
       "├─AvgPool1d: 1-5                         [-1, 64, 8191]            --\n",
       "├─ModuleList: 1                          []                        --\n",
       "|    └─Dropout: 2-12                     [-1, 64, 8191]            --\n",
       "├─Sequential: 1-6                        [-1, 128, 8184]           --\n",
       "|    └─Conv1d: 2-13                      [-1, 128, 8184]           65,536\n",
       "|    └─BatchNorm1d: 2-14                 [-1, 128, 8184]           256\n",
       "|    └─ReLU: 2-15                        [-1, 128, 8184]           --\n",
       "├─AvgPool1d: 1-7                         [-1, 128, 4092]           --\n",
       "├─ModuleList: 1                          []                        --\n",
       "|    └─Dropout: 2-16                     [-1, 128, 4092]           --\n",
       "├─Sequential: 1-8                        [-1, 256, 4077]           --\n",
       "|    └─Conv1d: 2-17                      [-1, 256, 4077]           524,288\n",
       "|    └─BatchNorm1d: 2-18                 [-1, 256, 4077]           512\n",
       "|    └─ReLU: 2-19                        [-1, 256, 4077]           --\n",
       "├─AvgPool1d: 1-9                         [-1, 256, 2039]           --\n",
       "├─ModuleList: 1                          []                        --\n",
       "|    └─Dropout: 2-20                     [-1, 256, 2039]           --\n",
       "├─Sequential: 1-10                       [-1, 256, 2008]           --\n",
       "|    └─Conv1d: 2-21                      [-1, 256, 2008]           2,097,152\n",
       "|    └─BatchNorm1d: 2-22                 [-1, 256, 2008]           512\n",
       "|    └─ReLU: 2-23                        [-1, 256, 2008]           --\n",
       "├─AvgPool1d: 1-11                        [-1, 256, 1004]           --\n",
       "├─ModuleList: 1                          []                        --\n",
       "|    └─Dropout: 2-24                     [-1, 256, 1004]           --\n",
       "├─Sequential: 1-12                       [-1, 256, 941]            --\n",
       "|    └─Conv1d: 2-25                      [-1, 256, 941]            4,194,304\n",
       "|    └─BatchNorm1d: 2-26                 [-1, 256, 941]            512\n",
       "|    └─ReLU: 2-27                        [-1, 256, 941]            --\n",
       "├─ModuleList: 1                          []                        --\n",
       "|    └─Dropout: 2-28                     [-1, 256, 941]            --\n",
       "├─Sequential: 1-13                       [-1, 256, 941]            --\n",
       "|    └─ConvTranspose1d: 2-29             [-1, 256, 941]            196,608\n",
       "|    └─BatchNorm1d: 2-30                 [-1, 256, 941]            512\n",
       "|    └─ReLU: 2-31                        [-1, 256, 941]            --\n",
       "├─ModuleList: 1                          []                        --\n",
       "|    └─Dropout: 2-32                     [-1, 256, 941]            --\n",
       "├─Sequential: 1-14                       [-1, 128, 941]            --\n",
       "|    └─ConvTranspose1d: 2-33             [-1, 128, 941]            98,304\n",
       "|    └─BatchNorm1d: 2-34                 [-1, 128, 941]            256\n",
       "|    └─ReLU: 2-35                        [-1, 128, 941]            --\n",
       "├─ModuleList: 1                          []                        --\n",
       "|    └─Dropout: 2-36                     [-1, 128, 941]            --\n",
       "├─Sequential: 1-15                       [-1, 64, 941]             --\n",
       "|    └─ConvTranspose1d: 2-37             [-1, 64, 941]             24,576\n",
       "|    └─BatchNorm1d: 2-38                 [-1, 64, 941]             128\n",
       "|    └─ReLU: 2-39                        [-1, 64, 941]             --\n",
       "├─ModuleList: 1                          []                        --\n",
       "|    └─Dropout: 2-40                     [-1, 64, 941]             --\n",
       "├─Sequential: 1-16                       [-1, 32, 941]             --\n",
       "|    └─ConvTranspose1d: 2-41             [-1, 32, 941]             6,144\n",
       "|    └─BatchNorm1d: 2-42                 [-1, 32, 941]             64\n",
       "|    └─ReLU: 2-43                        [-1, 32, 941]             --\n",
       "├─ModuleList: 1                          []                        --\n",
       "|    └─Dropout: 2-44                     [-1, 32, 941]             --\n",
       "├─Sequential: 1-17                       [-1, 16, 941]             --\n",
       "|    └─ConvTranspose1d: 2-45             [-1, 16, 941]             1,536\n",
       "|    └─BatchNorm1d: 2-46                 [-1, 16, 941]             32\n",
       "|    └─ReLU: 2-47                        [-1, 16, 941]             --\n",
       "├─ModuleList: 1                          []                        --\n",
       "|    └─Dropout: 2-48                     [-1, 16, 941]             --\n",
       "├─Sequential: 1-18                       [-1, 8, 941]              --\n",
       "|    └─ConvTranspose1d: 2-49             [-1, 8, 941]              384\n",
       "|    └─BatchNorm1d: 2-50                 [-1, 8, 941]              16\n",
       "|    └─ReLU: 2-51                        [-1, 8, 941]              --\n",
       "├─ModuleList: 1                          []                        --\n",
       "|    └─Dropout: 2-52                     [-1, 8, 941]              --\n",
       "├─Sequential: 1-19                       [-1, 4, 941]              --\n",
       "|    └─ConvTranspose1d: 2-53             [-1, 4, 941]              96\n",
       "|    └─BatchNorm1d: 2-54                 [-1, 4, 941]              8\n",
       "|    └─ReLU: 2-55                        [-1, 4, 941]              --\n",
       "├─ModuleList: 1                          []                        --\n",
       "|    └─Dropout: 2-56                     [-1, 4, 941]              --\n",
       "├─Flatten: 1-20                          [-1, 3764]                --\n",
       "├─Linear: 1-21                           [-1, 1]                   3,765\n",
       "├─Softplus: 1-22                         [-1, 1]                   --\n",
       "==========================================================================================\n",
       "Total params: 7,224,957\n",
       "Trainable params: 7,224,957\n",
       "Non-trainable params: 0\n",
       "Total mult-adds (G): 11.32\n",
       "==========================================================================================\n",
       "Input size (MB): 0.12\n",
       "Forward/backward pass size (MB): 90.72\n",
       "Params size (MB): 27.56\n",
       "Estimated Total Size (MB): 118.41\n",
       "=========================================================================================="
      ]
     },
     "execution_count": 8,
     "metadata": {},
     "output_type": "execute_result"
    }
   ],
   "source": [
    "sample_size = nctes.LEN_SAMPLE\n",
    "model = builder(input_size=sample_size, dropout_probs=hyperparams[sctes.DROPOUT_PROBS])\n",
    "model.to(device=device)\n",
    "model.load_state_dict(torch.load(model_path, map_location=device))\n",
    "summary(model, (1, sample_size))"
   ]
  },
  {
   "cell_type": "code",
   "execution_count": 9,
   "id": "e69cdfeb-da88-4f16-9dd7-582c576f2159",
   "metadata": {},
   "outputs": [],
   "source": [
    "losses = np.load(losses_path)\n",
    "train_losses = losses[sctes.TRAIN]\n",
    "valid_losses = losses[sctes.VAL]"
   ]
  },
  {
   "cell_type": "code",
   "execution_count": 10,
   "id": "5b30e607-5a3f-4315-83b7-dc16e36d2c80",
   "metadata": {},
   "outputs": [
    {
     "name": "stdout",
     "output_type": "stream",
     "text": [
      "criterion = MSELoss()\n"
     ]
    }
   ],
   "source": [
    "criterion = nn.MSELoss()\n",
    "print(f\"{criterion = }\")"
   ]
  },
  {
   "cell_type": "markdown",
   "id": "6ef90158",
   "metadata": {},
   "source": [
    "# Data Load"
   ]
  },
  {
   "cell_type": "code",
   "execution_count": 11,
   "id": "cb9b7948",
   "metadata": {},
   "outputs": [],
   "source": [
    "transform = ToTensor()\n",
    "\n",
    "data      = MRWDataset(data_path, transform, sample_size, builder.LABELS)"
   ]
  },
  {
   "cell_type": "code",
   "execution_count": 12,
   "id": "7d323daa",
   "metadata": {},
   "outputs": [],
   "source": [
    "batch_size = int(hyperparams[sctes.BATCH_SIZE])\n",
    "valid_size = float(hyperparams[sctes.VALID_SIZE])\n",
    "test_size = float(hyperparams[sctes.TEST_SIZE])\n",
    "\n",
    "train_loader, valid_loader, test_loader = create_data_loaders(batch_size, valid_size, test_size, data)"
   ]
  },
  {
   "cell_type": "markdown",
   "id": "ce857272",
   "metadata": {},
   "source": [
    "# Plot Losses"
   ]
  },
  {
   "cell_type": "code",
   "execution_count": 13,
   "id": "02e6896d-9cf8-4348-8201-5592d623dbc1",
   "metadata": {},
   "outputs": [
    {
     "data": {
      "image/png": "[encoded data removed]",
      "text/plain": [
       "<Figure size 640x480 with 1 Axes>"
      ]
     },
     "metadata": {},
     "output_type": "display_data"
    }
   ],
   "source": [
    "plot_losses(len(train_losses), [train_losses, valid_losses], [\"Train\", \"Val\"])\n",
    "# plt.savefig(losses_img_path)"
   ]
  },
  {
   "cell_type": "markdown",
   "id": "b13911e4",
   "metadata": {},
   "source": [
    "# General Performance"
   ]
  },
  {
   "cell_type": "code",
   "execution_count": 14,
   "id": "3c319ac0",
   "metadata": {},
   "outputs": [
    {
     "name": "stderr",
     "output_type": "stream",
     "text": [
      "  0%|          | 0/427 [00:00<?, ?it/s]"
     ]
    },
    {
     "name": "stderr",
     "output_type": "stream",
     "text": [
      "100%|██████████| 427/427 [00:31<00:00, 13.60it/s]\n"
     ]
    }
   ],
   "source": [
    "targets, preds, output_losses  = get_all_predictions(model, test_loader, device, criterion, builder.LABELS)"
   ]
  },
  {
   "cell_type": "code",
   "execution_count": 15,
   "id": "3a0b3ef3",
   "metadata": {},
   "outputs": [],
   "source": [
    "# analyse_predictions(targets, preds)"
   ]
  },
  {
   "cell_type": "code",
   "execution_count": 16,
   "id": "a183a8d8",
   "metadata": {},
   "outputs": [
    {
     "name": "stdout",
     "output_type": "stream",
     "text": [
      "Total Test MSE = 0.1406\n",
      "\n",
      "Test MSE for each output:\n",
      "c1: 0.1405\n"
     ]
    }
   ],
   "source": [
    "total_test_loss, mean_output_losses = get_MSEs(targets, preds, output_losses, builder.LABELS, device, criterion)\n",
    "print(\"Total Test MSE = {:0.4f}\".format(total_test_loss))\n",
    "print(\"\")\n",
    "print(\"Test MSE for each output:\")\n",
    "for key, value in mean_output_losses.items():\n",
    "    print(f\"{key}: {value:.4f}\")"
   ]
  },
  {
   "cell_type": "markdown",
   "id": "3054aa6b",
   "metadata": {},
   "source": [
    "# Predictions Distribution"
   ]
  },
  {
   "cell_type": "code",
   "execution_count": 17,
   "id": "43933961-25b1-4513-b9ff-b424ec2f6de2",
   "metadata": {},
   "outputs": [
    {
     "data": {
      "image/png": "[encoded data removed]",
      "text/plain": [
       "<Figure size 1000x700 with 1 Axes>"
      ]
     },
     "metadata": {},
     "output_type": "display_data"
    }
   ],
   "source": [
    "plot_distributions(targets, preds, builder.LABELS)"
   ]
  }
 ],
 "metadata": {
  "kernelspec": {
   "display_name": "Python 3 (ipykernel)",
   "language": "python",
   "name": "python3"
  },
  "language_info": {
   "codemirror_mode": {
    "name": "ipython",
    "version": 3
   },
   "file_extension": ".py",
   "mimetype": "text/x-python",
   "name": "python",
   "nbconvert_exporter": "python",
   "pygments_lexer": "ipython3",
   "version": "3.11.5"
  }
 },
 "nbformat": 4,
 "nbformat_minor": 5
}
