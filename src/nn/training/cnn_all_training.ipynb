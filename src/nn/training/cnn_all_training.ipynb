{
 "cells": [
  {
   "cell_type": "code",
   "execution_count": 1,
   "id": "ac02d00f",
   "metadata": {},
   "outputs": [],
   "source": [
    "from torchsummary                    import summary\n",
    "from datetime                        import datetime\n",
    "from src.data.to_tensor              import ToTensor\n",
    "from src.data.mrw_dataset            import MRWDataset\n",
    "from src.data.create_data_loaders    import create_data_loaders\n",
    "from src.nn.archs                    import CNN_ALL, CNN_ALL_VDCNNFRW_M18\n",
    "from src.nn.training.utils           import Trainer\n",
    "from src.nn.losses.weighted_mse_loss import WeightedMSELoss\n",
    "from src.nn.results.utils            import plot_losses\n",
    "\n",
    "import random\n",
    "import torch\n",
    "import torch.nn           as nn\n",
    "import numpy              as np\n",
    "import src.ctes.str_ctes  as sctes\n",
    "import src.ctes.num_ctes  as nctes\n",
    "import src.nn.path_ctes   as pctes"
   ]
  },
  {
   "cell_type": "markdown",
   "id": "87b73284",
   "metadata": {},
   "source": [
    "# Random Seed"
   ]
  },
  {
   "cell_type": "code",
   "execution_count": 2,
   "id": "ae425fe1",
   "metadata": {},
   "outputs": [],
   "source": [
    "seed = 42\n",
    "torch.manual_seed(seed)\n",
    "random.seed(seed)\n",
    "np.random.seed(seed)"
   ]
  },
  {
   "cell_type": "markdown",
   "id": "2ef83f48",
   "metadata": {},
   "source": [
    "# Model choice"
   ]
  },
  {
   "cell_type": "code",
   "execution_count": 3,
   "id": "dd46d43b",
   "metadata": {},
   "outputs": [],
   "source": [
    "builder    = CNN_ALL_VDCNNFRW_M18\n",
    "labels     = builder.LABELS\n",
    "model_name = \"Example\""
   ]
  },
  {
   "cell_type": "markdown",
   "id": "2f0ad9aa",
   "metadata": {},
   "source": [
    "# Timestamp"
   ]
  },
  {
   "cell_type": "code",
   "execution_count": 4,
   "id": "0a618143",
   "metadata": {},
   "outputs": [
    {
     "name": "stdout",
     "output_type": "stream",
     "text": [
      "2024_03_21__19_37_34\n",
      "CNN_ALL\n"
     ]
    }
   ],
   "source": [
    "timestamp = datetime.now().strftime('%Y_%m_%d__%H_%M_%S')\n",
    "arch_name  = builder.__name__\n",
    "hyperparams_path = f\"../../../data/models/hyperparams_{arch_name}_{timestamp}.npz\"\n",
    "model_path = f\"../../../data/models/model_{arch_name}_{timestamp}.pt\"\n",
    "losses_path = f\"../../../data/models/losses_{arch_name}_{timestamp}.npz\"\n",
    "print(timestamp)\n",
    "print(arch_name)"
   ]
  },
  {
   "cell_type": "markdown",
   "id": "836641ec",
   "metadata": {},
   "source": [
    "# Hyperparameters"
   ]
  },
  {
   "cell_type": "code",
   "execution_count": 5,
   "id": "5ddf64b4",
   "metadata": {},
   "outputs": [],
   "source": [
    "n_epochs   = 2     # Number of epochs\n",
    "batch_size = 6       # Batch size\n",
    "\n",
    "test_size  = 0.2     # Whole dataset testing size\n",
    "valid_size = 0.2     # Training dataset validation size\n",
    "\n",
    "lr = 0.001           # Learning rate\n",
    "weight_decay = 1e-5  # L2 regularization"
   ]
  },
  {
   "cell_type": "markdown",
   "id": "2a7ecb72",
   "metadata": {},
   "source": [
    "# Dataset"
   ]
  },
  {
   "cell_type": "code",
   "execution_count": 6,
   "id": "0ce38a6c",
   "metadata": {},
   "outputs": [],
   "source": [
    "data_path = pctes.DATAPATH"
   ]
  },
  {
   "cell_type": "code",
   "execution_count": 7,
   "id": "62d559df",
   "metadata": {},
   "outputs": [],
   "source": [
    "transform = ToTensor()\n",
    "sample_size = nctes.LEN_SAMPLE\n",
    "data = MRWDataset(data_path, transform, sample_size, labels)"
   ]
  },
  {
   "cell_type": "code",
   "execution_count": 8,
   "id": "347725f9",
   "metadata": {},
   "outputs": [],
   "source": [
    "train_loader, valid_loader, test_loader = create_data_loaders(batch_size, valid_size, test_size, data)"
   ]
  },
  {
   "cell_type": "markdown",
   "id": "fd423253",
   "metadata": {},
   "source": [
    "# Cuda"
   ]
  },
  {
   "cell_type": "code",
   "execution_count": 9,
   "id": "568772a2",
   "metadata": {},
   "outputs": [
    {
     "name": "stdout",
     "output_type": "stream",
     "text": [
      "Using device cuda\n"
     ]
    }
   ],
   "source": [
    "device = torch.device('cuda' if torch.cuda.is_available() else 'cpu')\n",
    "print('Using device ' + str(device))"
   ]
  },
  {
   "cell_type": "markdown",
   "id": "5d452294",
   "metadata": {},
   "source": [
    "# Model Summary"
   ]
  },
  {
   "cell_type": "code",
   "execution_count": 10,
   "id": "49bdac0d",
   "metadata": {
    "scrolled": true
   },
   "outputs": [
    {
     "name": "stdout",
     "output_type": "stream",
     "text": [
      "==========================================================================================\n",
      "Layer (type:depth-idx)                   Output Shape              Param #\n",
      "==========================================================================================\n",
      "├─Sequential: 1-1                        [-1, 128, 32767]          --\n",
      "|    └─Conv1d: 2-1                       [-1, 128, 32767]          256\n",
      "|    └─BatchNorm1d: 2-2                  [-1, 128, 32767]          256\n",
      "|    └─ReLU: 2-3                         [-1, 128, 32767]          --\n",
      "├─AvgPool1d: 1-2                         [-1, 128, 8192]           --\n",
      "├─Sequential: 1-3                        [-1, 64, 8189]            --\n",
      "|    └─Conv1d: 2-4                       [-1, 64, 8189]            32,768\n",
      "|    └─BatchNorm1d: 2-5                  [-1, 64, 8189]            128\n",
      "|    └─ReLU: 2-6                         [-1, 64, 8189]            --\n",
      "├─AvgPool1d: 1-4                         [-1, 64, 2048]            --\n",
      "├─Sequential: 1-5                        [-1, 32, 2041]            --\n",
      "|    └─Conv1d: 2-7                       [-1, 32, 2041]            16,384\n",
      "|    └─BatchNorm1d: 2-8                  [-1, 32, 2041]            64\n",
      "|    └─ReLU: 2-9                         [-1, 32, 2041]            --\n",
      "├─AvgPool1d: 1-6                         [-1, 32, 511]             --\n",
      "├─Sequential: 1-7                        [-1, 16, 496]             --\n",
      "|    └─Conv1d: 2-10                      [-1, 16, 496]             8,192\n",
      "|    └─BatchNorm1d: 2-11                 [-1, 16, 496]             32\n",
      "|    └─ReLU: 2-12                        [-1, 16, 496]             --\n",
      "├─AvgPool1d: 1-8                         [-1, 16, 124]             --\n",
      "├─Sequential: 1-9                        [-1, 8, 93]               --\n",
      "|    └─Conv1d: 2-13                      [-1, 8, 93]               4,096\n",
      "|    └─BatchNorm1d: 2-14                 [-1, 8, 93]               16\n",
      "|    └─ReLU: 2-15                        [-1, 8, 93]               --\n",
      "├─AvgPool1d: 1-10                        [-1, 8, 24]               --\n",
      "├─Flatten: 1-11                          [-1, 192]                 --\n",
      "├─Linear: 1-12                           [-1, 96]                  18,528\n",
      "├─Linear: 1-13                           [-1, 48]                  4,656\n",
      "├─Linear: 1-14                           [-1, 4]                   196\n",
      "├─Softplus: 1-15                         [-1, 4]                   --\n",
      "==========================================================================================\n",
      "Total params: 85,572\n",
      "Trainable params: 85,572\n",
      "Non-trainable params: 0\n",
      "Total mult-adds (M): 314.69\n",
      "==========================================================================================\n",
      "Input size (MB): 0.12\n",
      "Forward/backward pass size (MB): 73.13\n",
      "Params size (MB): 0.33\n",
      "Estimated Total Size (MB): 73.58\n",
      "==========================================================================================\n"
     ]
    },
    {
     "data": {
      "text/plain": [
       "==========================================================================================\n",
       "Layer (type:depth-idx)                   Output Shape              Param #\n",
       "==========================================================================================\n",
       "├─Sequential: 1-1                        [-1, 128, 32767]          --\n",
       "|    └─Conv1d: 2-1                       [-1, 128, 32767]          256\n",
       "|    └─BatchNorm1d: 2-2                  [-1, 128, 32767]          256\n",
       "|    └─ReLU: 2-3                         [-1, 128, 32767]          --\n",
       "├─AvgPool1d: 1-2                         [-1, 128, 8192]           --\n",
       "├─Sequential: 1-3                        [-1, 64, 8189]            --\n",
       "|    └─Conv1d: 2-4                       [-1, 64, 8189]            32,768\n",
       "|    └─BatchNorm1d: 2-5                  [-1, 64, 8189]            128\n",
       "|    └─ReLU: 2-6                         [-1, 64, 8189]            --\n",
       "├─AvgPool1d: 1-4                         [-1, 64, 2048]            --\n",
       "├─Sequential: 1-5                        [-1, 32, 2041]            --\n",
       "|    └─Conv1d: 2-7                       [-1, 32, 2041]            16,384\n",
       "|    └─BatchNorm1d: 2-8                  [-1, 32, 2041]            64\n",
       "|    └─ReLU: 2-9                         [-1, 32, 2041]            --\n",
       "├─AvgPool1d: 1-6                         [-1, 32, 511]             --\n",
       "├─Sequential: 1-7                        [-1, 16, 496]             --\n",
       "|    └─Conv1d: 2-10                      [-1, 16, 496]             8,192\n",
       "|    └─BatchNorm1d: 2-11                 [-1, 16, 496]             32\n",
       "|    └─ReLU: 2-12                        [-1, 16, 496]             --\n",
       "├─AvgPool1d: 1-8                         [-1, 16, 124]             --\n",
       "├─Sequential: 1-9                        [-1, 8, 93]               --\n",
       "|    └─Conv1d: 2-13                      [-1, 8, 93]               4,096\n",
       "|    └─BatchNorm1d: 2-14                 [-1, 8, 93]               16\n",
       "|    └─ReLU: 2-15                        [-1, 8, 93]               --\n",
       "├─AvgPool1d: 1-10                        [-1, 8, 24]               --\n",
       "├─Flatten: 1-11                          [-1, 192]                 --\n",
       "├─Linear: 1-12                           [-1, 96]                  18,528\n",
       "├─Linear: 1-13                           [-1, 48]                  4,656\n",
       "├─Linear: 1-14                           [-1, 4]                   196\n",
       "├─Softplus: 1-15                         [-1, 4]                   --\n",
       "==========================================================================================\n",
       "Total params: 85,572\n",
       "Trainable params: 85,572\n",
       "Non-trainable params: 0\n",
       "Total mult-adds (M): 314.69\n",
       "==========================================================================================\n",
       "Input size (MB): 0.12\n",
       "Forward/backward pass size (MB): 73.13\n",
       "Params size (MB): 0.33\n",
       "Estimated Total Size (MB): 73.58\n",
       "=========================================================================================="
      ]
     },
     "execution_count": 10,
     "metadata": {},
     "output_type": "execute_result"
    }
   ],
   "source": [
    "sample_size = nctes.LEN_SAMPLE\n",
    "dropout_probs=[]\n",
    "model = builder(input_size=sample_size, dropout_probs=dropout_probs)\n",
    "model.to(device=device)\n",
    "\n",
    "summary(model, (1, sample_size))"
   ]
  },
  {
   "cell_type": "markdown",
   "id": "79fafb6d",
   "metadata": {},
   "source": [
    "# Criterion"
   ]
  },
  {
   "cell_type": "code",
   "execution_count": 11,
   "id": "495e4b8d-1048-42fc-99dc-2793b3ec2f46",
   "metadata": {},
   "outputs": [
    {
     "name": "stdout",
     "output_type": "stream",
     "text": [
      "MSELoss()\n"
     ]
    }
   ],
   "source": [
    "criterion = nn.MSELoss()\n",
    "print(criterion)"
   ]
  },
  {
   "cell_type": "markdown",
   "id": "88be3c26",
   "metadata": {},
   "source": [
    "# Optimizer"
   ]
  },
  {
   "cell_type": "code",
   "execution_count": 12,
   "id": "73e641da",
   "metadata": {},
   "outputs": [
    {
     "name": "stdout",
     "output_type": "stream",
     "text": [
      "Adam (\n",
      "Parameter Group 0\n",
      "    amsgrad: False\n",
      "    betas: (0.9, 0.999)\n",
      "    capturable: False\n",
      "    differentiable: False\n",
      "    eps: 1e-08\n",
      "    foreach: None\n",
      "    fused: None\n",
      "    lr: 0.001\n",
      "    maximize: False\n",
      "    weight_decay: 1e-05\n",
      ")\n"
     ]
    }
   ],
   "source": [
    "params = model.parameters()\n",
    "optimizer = torch.optim.Adam(params, lr, weight_decay = weight_decay)\n",
    "print(optimizer)"
   ]
  },
  {
   "cell_type": "markdown",
   "id": "8c40f4a1",
   "metadata": {},
   "source": [
    "# Hyperparameters Backup"
   ]
  },
  {
   "cell_type": "code",
   "execution_count": 13,
   "id": "5ee7af49-6207-49cc-8ea4-0d04490bc0d4",
   "metadata": {},
   "outputs": [],
   "source": [
    "np.savez(hyperparams_path, \n",
    "         len           = len(data), \n",
    "         test_size     = test_size, \n",
    "         valid_size    = valid_size, \n",
    "         epochs        = n_epochs, \n",
    "         batch_size    = batch_size, \n",
    "         criterion     = str(criterion), \n",
    "         optimizer     = str(optimizer), \n",
    "         lr            = lr,\n",
    "         seed          = seed,\n",
    "         weight_decay  = weight_decay, \n",
    "         dropout_probs = dropout_probs, \n",
    "         model_name    = model_name,\n",
    "         arch_name     = arch_name,\n",
    "         labels        = labels)"
   ]
  },
  {
   "cell_type": "markdown",
   "id": "718d383a",
   "metadata": {},
   "source": [
    "# Traning"
   ]
  },
  {
   "cell_type": "code",
   "execution_count": 14,
   "id": "e3f05eac",
   "metadata": {},
   "outputs": [
    {
     "name": "stdout",
     "output_type": "stream",
     "text": [
      "Epoch 1/2 ...\n",
      "Training ...\n"
     ]
    },
    {
     "name": "stderr",
     "output_type": "stream",
     "text": [
      " 36%|███▌      | 492/1366 [00:09<00:16, 52.03it/s]"
     ]
    },
    {
     "name": "stderr",
     "output_type": "stream",
     "text": [
      "100%|██████████| 1366/1366 [00:26<00:00, 50.81it/s]\n"
     ]
    },
    {
     "name": "stdout",
     "output_type": "stream",
     "text": [
      "Validating ...\n"
     ]
    },
    {
     "name": "stderr",
     "output_type": "stream",
     "text": [
      "100%|██████████| 342/342 [00:01<00:00, 174.17it/s]\n"
     ]
    },
    {
     "name": "stdout",
     "output_type": "stream",
     "text": [
      "Epoch: 1 \ttraining Loss: 0.096728 \tvalidation Loss: 0.111922\n",
      "Saving last model ...\n",
      "Validation loss decreased (inf --> 0.111922).  Saving best model too ...\n",
      "Saving loss ...\n",
      "Epoch 2/2 ...\n",
      "Training ...\n"
     ]
    },
    {
     "name": "stderr",
     "output_type": "stream",
     "text": [
      "100%|██████████| 1366/1366 [00:27<00:00, 50.50it/s]\n"
     ]
    },
    {
     "name": "stdout",
     "output_type": "stream",
     "text": [
      "Validating ...\n"
     ]
    },
    {
     "name": "stderr",
     "output_type": "stream",
     "text": [
      "100%|██████████| 342/342 [00:02<00:00, 167.92it/s]"
     ]
    },
    {
     "name": "stdout",
     "output_type": "stream",
     "text": [
      "Epoch: 2 \ttraining Loss: 0.082864 \tvalidation Loss: 0.077591\n",
      "Saving last model ...\n",
      "Validation loss decreased (0.111922 --> 0.077591).  Saving best model too ...\n",
      "Saving loss ...\n"
     ]
    },
    {
     "name": "stderr",
     "output_type": "stream",
     "text": [
      "\n"
     ]
    }
   ],
   "source": [
    "train_losses, valid_losses = Trainer.train(n_epochs, train_loader, valid_loader, model, criterion, optimizer, device, model_path, losses_path)"
   ]
  },
  {
   "cell_type": "markdown",
   "id": "57f8b5a2",
   "metadata": {},
   "source": [
    "# Loss plot"
   ]
  },
  {
   "cell_type": "code",
   "execution_count": 15,
   "id": "7bc2a1d0",
   "metadata": {},
   "outputs": [
    {
     "data": {
      "image/png": "[encoded data removed]",
      "text/plain": [
       "<Figure size 640x480 with 1 Axes>"
      ]
     },
     "metadata": {},
     "output_type": "display_data"
    }
   ],
   "source": [
    "plot_losses(len(train_losses), [train_losses, valid_losses], [\"Train\", \"Val\"])"
   ]
  }
 ],
 "metadata": {
  "@webio": {
   "lastCommId": null,
   "lastKernelId": null
  },
  "kernelspec": {
   "display_name": "Python 3 (ipykernel)",
   "language": "python",
   "name": "python3"
  },
  "language_info": {
   "codemirror_mode": {
    "name": "ipython",
    "version": 3
   },
   "file_extension": ".py",
   "mimetype": "text/x-python",
   "name": "python",
   "nbconvert_exporter": "python",
   "pygments_lexer": "ipython3",
   "version": "3.11.8"
  }
 },
 "nbformat": 4,
 "nbformat_minor": 5
}
