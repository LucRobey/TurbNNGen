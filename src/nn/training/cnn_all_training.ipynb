{
 "cells": [
  {
   "cell_type": "code",
   "execution_count": 8,
   "id": "ac02d00f",
   "metadata": {},
   "outputs": [],
   "source": [
    "from torchsummary                    import summary\n",
    "from datetime                        import datetime\n",
    "from src.data.to_tensor              import ToTensor\n",
    "from src.data.mrw_dataset            import MRWDataset\n",
    "from src.data.create_data_loaders    import create_data_loaders\n",
    "from src.nn.archs                    import CNN_ALL\n",
    "from src.nn.training.utils           import Trainer\n",
    "from src.nn.losses.weighted_mse_loss import WeightedMSELoss\n",
    "from src.nn.results.utils            import plot_losses\n",
    "\n",
    "import random\n",
    "import torch\n",
    "import torch.nn           as nn\n",
    "import numpy              as np\n",
    "import src.ctes.str_ctes  as sctes\n",
    "import src.ctes.num_ctes  as nctes\n",
    "import src.ctes.path_ctes as pctes"
   ]
  },
  {
   "cell_type": "code",
   "execution_count": 9,
   "id": "dd46d43b",
   "metadata": {},
   "outputs": [],
   "source": [
    "builder = CNN_ALL\n",
    "labels  = [sctes.C1, sctes.C2, sctes.L, sctes.EPSILON]"
   ]
  },
  {
   "cell_type": "code",
   "execution_count": 10,
   "id": "ef26d669-2251-4d73-92eb-3ab0dc5f0177",
   "metadata": {},
   "outputs": [],
   "source": [
    "seed = 42\n",
    "torch.manual_seed(seed)\n",
    "random.seed(seed)\n",
    "np.random.seed(seed)"
   ]
  },
  {
   "cell_type": "code",
   "execution_count": 11,
   "id": "568772a2",
   "metadata": {},
   "outputs": [
    {
     "name": "stdout",
     "output_type": "stream",
     "text": [
      "Using device cuda\n"
     ]
    }
   ],
   "source": [
    "device = torch.device('cuda' if torch.cuda.is_available() else 'cpu')\n",
    "print('Using device ' + str(device))"
   ]
  },
  {
   "cell_type": "code",
   "execution_count": 12,
   "id": "49bdac0d",
   "metadata": {
    "scrolled": true
   },
   "outputs": [
    {
     "name": "stdout",
     "output_type": "stream",
     "text": [
      "==========================================================================================\n",
      "Layer (type:depth-idx)                   Output Shape              Param #\n",
      "==========================================================================================\n",
      "├─Sequential: 1-1                        [-1, 128, 32767]          --\n",
      "|    └─Conv1d: 2-1                       [-1, 128, 32767]          256\n",
      "|    └─BatchNorm1d: 2-2                  [-1, 128, 32767]          256\n",
      "|    └─ReLU: 2-3                         [-1, 128, 32767]          --\n",
      "├─AvgPool1d: 1-2                         [-1, 128, 8192]           --\n",
      "├─Sequential: 1-3                        [-1, 64, 8189]            --\n",
      "|    └─Conv1d: 2-4                       [-1, 64, 8189]            32,768\n",
      "|    └─BatchNorm1d: 2-5                  [-1, 64, 8189]            128\n",
      "|    └─ReLU: 2-6                         [-1, 64, 8189]            --\n",
      "├─AvgPool1d: 1-4                         [-1, 64, 2048]            --\n",
      "├─Sequential: 1-5                        [-1, 32, 2041]            --\n",
      "|    └─Conv1d: 2-7                       [-1, 32, 2041]            16,384\n",
      "|    └─BatchNorm1d: 2-8                  [-1, 32, 2041]            64\n",
      "|    └─ReLU: 2-9                         [-1, 32, 2041]            --\n",
      "├─AvgPool1d: 1-6                         [-1, 32, 511]             --\n",
      "├─Sequential: 1-7                        [-1, 16, 496]             --\n",
      "|    └─Conv1d: 2-10                      [-1, 16, 496]             8,192\n",
      "|    └─BatchNorm1d: 2-11                 [-1, 16, 496]             32\n",
      "|    └─ReLU: 2-12                        [-1, 16, 496]             --\n",
      "├─AvgPool1d: 1-8                         [-1, 16, 124]             --\n",
      "├─Sequential: 1-9                        [-1, 8, 93]               --\n",
      "|    └─Conv1d: 2-13                      [-1, 8, 93]               4,096\n",
      "|    └─BatchNorm1d: 2-14                 [-1, 8, 93]               16\n",
      "|    └─ReLU: 2-15                        [-1, 8, 93]               --\n",
      "├─AvgPool1d: 1-10                        [-1, 8, 24]               --\n",
      "├─Flatten: 1-11                          [-1, 192]                 --\n",
      "├─Linear: 1-12                           [-1, 96]                  18,528\n",
      "├─Linear: 1-13                           [-1, 48]                  4,656\n",
      "├─Linear: 1-14                           [-1, 4]                   196\n",
      "├─Softplus: 1-15                         [-1, 4]                   --\n",
      "==========================================================================================\n",
      "Total params: 85,572\n",
      "Trainable params: 85,572\n",
      "Non-trainable params: 0\n",
      "Total mult-adds (M): 314.69\n",
      "==========================================================================================\n",
      "Input size (MB): 0.12\n",
      "Forward/backward pass size (MB): 73.13\n",
      "Params size (MB): 0.33\n",
      "Estimated Total Size (MB): 73.58\n",
      "==========================================================================================\n"
     ]
    },
    {
     "data": {
      "text/plain": [
       "==========================================================================================\n",
       "Layer (type:depth-idx)                   Output Shape              Param #\n",
       "==========================================================================================\n",
       "├─Sequential: 1-1                        [-1, 128, 32767]          --\n",
       "|    └─Conv1d: 2-1                       [-1, 128, 32767]          256\n",
       "|    └─BatchNorm1d: 2-2                  [-1, 128, 32767]          256\n",
       "|    └─ReLU: 2-3                         [-1, 128, 32767]          --\n",
       "├─AvgPool1d: 1-2                         [-1, 128, 8192]           --\n",
       "├─Sequential: 1-3                        [-1, 64, 8189]            --\n",
       "|    └─Conv1d: 2-4                       [-1, 64, 8189]            32,768\n",
       "|    └─BatchNorm1d: 2-5                  [-1, 64, 8189]            128\n",
       "|    └─ReLU: 2-6                         [-1, 64, 8189]            --\n",
       "├─AvgPool1d: 1-4                         [-1, 64, 2048]            --\n",
       "├─Sequential: 1-5                        [-1, 32, 2041]            --\n",
       "|    └─Conv1d: 2-7                       [-1, 32, 2041]            16,384\n",
       "|    └─BatchNorm1d: 2-8                  [-1, 32, 2041]            64\n",
       "|    └─ReLU: 2-9                         [-1, 32, 2041]            --\n",
       "├─AvgPool1d: 1-6                         [-1, 32, 511]             --\n",
       "├─Sequential: 1-7                        [-1, 16, 496]             --\n",
       "|    └─Conv1d: 2-10                      [-1, 16, 496]             8,192\n",
       "|    └─BatchNorm1d: 2-11                 [-1, 16, 496]             32\n",
       "|    └─ReLU: 2-12                        [-1, 16, 496]             --\n",
       "├─AvgPool1d: 1-8                         [-1, 16, 124]             --\n",
       "├─Sequential: 1-9                        [-1, 8, 93]               --\n",
       "|    └─Conv1d: 2-13                      [-1, 8, 93]               4,096\n",
       "|    └─BatchNorm1d: 2-14                 [-1, 8, 93]               16\n",
       "|    └─ReLU: 2-15                        [-1, 8, 93]               --\n",
       "├─AvgPool1d: 1-10                        [-1, 8, 24]               --\n",
       "├─Flatten: 1-11                          [-1, 192]                 --\n",
       "├─Linear: 1-12                           [-1, 96]                  18,528\n",
       "├─Linear: 1-13                           [-1, 48]                  4,656\n",
       "├─Linear: 1-14                           [-1, 4]                   196\n",
       "├─Softplus: 1-15                         [-1, 4]                   --\n",
       "==========================================================================================\n",
       "Total params: 85,572\n",
       "Trainable params: 85,572\n",
       "Non-trainable params: 0\n",
       "Total mult-adds (M): 314.69\n",
       "==========================================================================================\n",
       "Input size (MB): 0.12\n",
       "Forward/backward pass size (MB): 73.13\n",
       "Params size (MB): 0.33\n",
       "Estimated Total Size (MB): 73.58\n",
       "=========================================================================================="
      ]
     },
     "execution_count": 12,
     "metadata": {},
     "output_type": "execute_result"
    }
   ],
   "source": [
    "sample_size = nctes.LEN_SAMPLE\n",
    "dropout_probs=[0.7, 0.7, 0.7, 0.7, 0.6, 0.6, 0.5, 0.5, 0.5, 0.5, 0.6, 0.6, 0.7, 0.7]\n",
    "model = builder(input_size=sample_size, dropout_probs=dropout_probs)\n",
    "model.to(device=device)\n",
    "\n",
    "summary(model, (1, sample_size))"
   ]
  },
  {
   "cell_type": "code",
   "execution_count": 13,
   "id": "c932b8ad",
   "metadata": {},
   "outputs": [],
   "source": [
    "data_path = pctes.DATAPATH\n",
    "transform = ToTensor()\n",
    "\n",
    "data = MRWDataset(data_path, transform, sample_size, labels)"
   ]
  },
  {
   "cell_type": "code",
   "execution_count": 14,
   "id": "9a96370b",
   "metadata": {},
   "outputs": [],
   "source": [
    "batch_size = 6\n",
    "valid_size = 0.2\n",
    "test_size = 0.2\n",
    "\n",
    "train_loader, valid_loader, test_loader = create_data_loaders(batch_size, valid_size, test_size, data)"
   ]
  },
  {
   "cell_type": "code",
   "execution_count": 15,
   "id": "495e4b8d-1048-42fc-99dc-2793b3ec2f46",
   "metadata": {},
   "outputs": [
    {
     "name": "stdout",
     "output_type": "stream",
     "text": [
      "MSELoss()\n"
     ]
    }
   ],
   "source": [
    "#weights = torch.tensor(1.5, 1.5, 1.0, 1.0])\n",
    "#criterion = WeightedMSELoss(weights)\n",
    "criterion = nn.MSELoss()\n",
    "print(criterion)"
   ]
  },
  {
   "cell_type": "code",
   "execution_count": 16,
   "id": "e625ead6-b6bc-4f34-88b9-cb8f471434f1",
   "metadata": {},
   "outputs": [],
   "source": [
    "model_name = \"Top-Down v1\" # name given to the trained model"
   ]
  },
  {
   "cell_type": "code",
   "execution_count": 17,
   "id": "73e641da",
   "metadata": {},
   "outputs": [
    {
     "name": "stdout",
     "output_type": "stream",
     "text": [
      "Adam (\n",
      "Parameter Group 0\n",
      "    amsgrad: False\n",
      "    betas: (0.9, 0.999)\n",
      "    capturable: False\n",
      "    differentiable: False\n",
      "    eps: 1e-08\n",
      "    foreach: None\n",
      "    fused: None\n",
      "    lr: 0.001\n",
      "    maximize: False\n",
      "    weight_decay: 1e-05\n",
      ")\n"
     ]
    }
   ],
   "source": [
    "params = model.parameters()\n",
    "lr = 0.001\n",
    "weight_decay = 1e-5 # for L2 regularization (remove the line and the argument in optimizer if L2 reg not needed)\n",
    "\n",
    "optimizer = torch.optim.Adam(params, lr, weight_decay = weight_decay)\n",
    "print(optimizer)"
   ]
  },
  {
   "cell_type": "code",
   "execution_count": 18,
   "id": "373a7473-3538-4ceb-9871-696b599e57b0",
   "metadata": {},
   "outputs": [],
   "source": [
    "n_epochs = 2"
   ]
  },
  {
   "cell_type": "code",
   "execution_count": 19,
   "id": "60ed12d6-24d2-4f76-984b-30df3977dcc5",
   "metadata": {},
   "outputs": [],
   "source": [
    "timestamp = datetime.now().strftime('%Y_%m_%d__%H_%M_%S')\n",
    "arch_name  = builder.__name__\n",
    "hyperparams_path = f\"../../../data/hyperparams_{arch_name}_{timestamp}.npz\"\n",
    "model_path = f\"../../../data/model_{arch_name}_{timestamp}.pt\"\n",
    "losses_path = f\"../../../data/losses_{arch_name}_{timestamp}.npz\""
   ]
  },
  {
   "cell_type": "code",
   "execution_count": 20,
   "id": "0cd2d3a0",
   "metadata": {},
   "outputs": [
    {
     "name": "stdout",
     "output_type": "stream",
     "text": [
      "2024_02_02__12_36_07\n",
      "CNN_ALL\n"
     ]
    }
   ],
   "source": [
    "print(timestamp)\n",
    "print(arch_name)"
   ]
  },
  {
   "cell_type": "code",
   "execution_count": 21,
   "id": "5ee7af49-6207-49cc-8ea4-0d04490bc0d4",
   "metadata": {},
   "outputs": [],
   "source": [
    "np.savez(hyperparams_path, \n",
    "         len           = len(data), \n",
    "         test_size     = test_size, \n",
    "         valid_size    = valid_size, \n",
    "         epochs        = n_epochs, \n",
    "         batch_size    = batch_size, \n",
    "         criterion     = str(criterion), \n",
    "         optimizer     = str(optimizer), \n",
    "         lr            = lr,\n",
    "         seed          = seed,\n",
    "         weight_decay  = weight_decay, \n",
    "         dropout_probs = dropout_probs, \n",
    "         model_name    = model_name,\n",
    "         arch_name     = arch_name,\n",
    "         labels        = labels)"
   ]
  },
  {
   "cell_type": "code",
   "execution_count": 22,
   "id": "e3f05eac",
   "metadata": {},
   "outputs": [
    {
     "name": "stdout",
     "output_type": "stream",
     "text": [
      "Epoch 1/100 ...\n",
      "Training ...\n"
     ]
    },
    {
     "name": "stderr",
     "output_type": "stream",
     "text": [
      "100%|██████████| 1366/1366 [01:16<00:00, 17.75it/s]\n"
     ]
    },
    {
     "name": "stdout",
     "output_type": "stream",
     "text": [
      "Validating ...\n"
     ]
    },
    {
     "name": "stderr",
     "output_type": "stream",
     "text": [
      "100%|██████████| 342/342 [00:04<00:00, 74.46it/s]\n"
     ]
    },
    {
     "name": "stdout",
     "output_type": "stream",
     "text": [
      "Epoch: 1 \ttraining Loss: 0.095446 \tvalidation Loss: 0.086061\n",
      "Validation loss decreased (inf --> 0.086061).  Saving model ...\n",
      "Epoch 2/100 ...\n",
      "Training ...\n"
     ]
    },
    {
     "name": "stderr",
     "output_type": "stream",
     "text": [
      " 45%|████▍     | 611/1366 [00:27<00:34, 21.93it/s]"
     ]
    }
   ],
   "source": [
    "train_losses, valid_losses = Trainer.train(n_epochs, train_loader, valid_loader, model, criterion, optimizer, device, model_path, losses_path)"
   ]
  },
  {
   "cell_type": "code",
   "execution_count": null,
   "id": "a82aa727-134e-4ed3-bf8b-34b58284b55e",
   "metadata": {},
   "outputs": [],
   "source": [
    "# np.savez(losses_path , train=np.array(train_losses), val=np.array(valid_losses))"
   ]
  },
  {
   "cell_type": "code",
   "execution_count": null,
   "id": "7bc2a1d0",
   "metadata": {},
   "outputs": [
    {
     "data": {
      "image/png": "[encoded data removed]",
      "text/plain": [
       "<Figure size 640x480 with 1 Axes>"
      ]
     },
     "metadata": {},
     "output_type": "display_data"
    }
   ],
   "source": [
    "plot_losses(len(train_losses), [train_losses, valid_losses], [\"Train\", \"Val\"])"
   ]
  }
 ],
 "metadata": {
  "@webio": {
   "lastCommId": null,
   "lastKernelId": null
  },
  "kernelspec": {
   "display_name": "Python 3 (ipykernel)",
   "language": "python",
   "name": "python3"
  },
  "language_info": {
   "codemirror_mode": {
    "name": "ipython",
    "version": 3
   },
   "file_extension": ".py",
   "mimetype": "text/x-python",
   "name": "python",
   "nbconvert_exporter": "python",
   "pygments_lexer": "ipython3",
   "version": "3.11.5"
  }
 },
 "nbformat": 4,
 "nbformat_minor": 5
}
