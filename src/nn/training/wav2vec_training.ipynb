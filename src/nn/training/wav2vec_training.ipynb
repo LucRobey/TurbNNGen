{
 "cells": [
  {
   "cell_type": "code",
   "execution_count": 1,
   "id": "ac02d00f",
   "metadata": {},
   "outputs": [],
   "source": [
    "from torchsummary                    import summary\n",
    "from datetime                        import datetime\n",
    "from src.data.to_tensor              import ToTensor\n",
    "from src.data.mrw_dataset            import MRWDataset\n",
    "from src.data.create_data_loaders    import create_data_loaders\n",
    "from src.nn.archs                    import Wav2Vec2\n",
    "from src.nn.training.utils           import Trainer\n",
    "from src.nn.losses.weighted_mse_loss import WeightedMSELoss\n",
    "from src.nn.results.utils            import plot_losses\n",
    "\n",
    "import random\n",
    "import torch\n",
    "import torch.nn           as nn\n",
    "import numpy              as np\n",
    "import src.ctes.str_ctes  as sctes\n",
    "import src.ctes.num_ctes  as nctes\n",
    "import src.ctes.path_ctes as pctes"
   ]
  },
  {
   "cell_type": "code",
   "execution_count": 2,
   "id": "dd46d43b",
   "metadata": {},
   "outputs": [],
   "source": [
    "builder = Wav2Vec2\n",
    "labels  = sctes.ALL_LABELS"
   ]
  },
  {
   "cell_type": "code",
   "execution_count": 3,
   "id": "ef26d669-2251-4d73-92eb-3ab0dc5f0177",
   "metadata": {},
   "outputs": [],
   "source": [
    "seed = 42\n",
    "torch.manual_seed(seed)\n",
    "random.seed(seed)\n",
    "np.random.seed(seed)"
   ]
  },
  {
   "cell_type": "code",
   "execution_count": 4,
   "id": "568772a2",
   "metadata": {},
   "outputs": [
    {
     "name": "stdout",
     "output_type": "stream",
     "text": [
      "Using device cuda\n"
     ]
    }
   ],
   "source": [
    "device = torch.device('cuda' if torch.cuda.is_available() else 'cpu')\n",
    "print('Using device ' + str(device))"
   ]
  },
  {
   "cell_type": "code",
   "execution_count": 5,
   "id": "49bdac0d",
   "metadata": {
    "scrolled": true
   },
   "outputs": [
    {
     "name": "stdout",
     "output_type": "stream",
     "text": [
      "=====================================================================================\n",
      "Layer (type:depth-idx)                                       Param #\n",
      "=====================================================================================\n",
      "├─Wav2Vec2Model: 1-1                                         --\n",
      "|    └─FeatureExtractor: 2-1                                 --\n",
      "|    |    └─ModuleList: 3-1                                  (4,200,448)\n",
      "|    └─Encoder: 2-2                                          --\n",
      "|    |    └─FeatureProjection: 3-2                           (395,008)\n",
      "|    |    └─Transformer: 3-3                                 (89,775,488)\n",
      "|    └─Linear: 2-3                                           (22,301)\n",
      "├─Wav2Vec2Head: 1-2                                          --\n",
      "|    └─Sequential: 2-4                                       --\n",
      "|    |    └─Conv2d: 3-4                                      864\n",
      "|    |    └─BatchNorm2d: 3-5                                 16\n",
      "|    |    └─ReLU: 3-6                                        --\n",
      "|    |    └─Conv2d: 3-7                                      288\n",
      "|    |    └─BatchNorm2d: 3-8                                 8\n",
      "|    |    └─ReLU: 3-9                                        --\n",
      "|    |    └─AdaptiveAvgPool2d: 3-10                          --\n",
      "|    |    └─Flatten: 3-11                                    --\n",
      "=====================================================================================\n",
      "Total params: 94,394,421\n",
      "Trainable params: 1,176\n",
      "Non-trainable params: 94,393,245\n",
      "=====================================================================================\n"
     ]
    },
    {
     "data": {
      "text/plain": [
       "=====================================================================================\n",
       "Layer (type:depth-idx)                                       Param #\n",
       "=====================================================================================\n",
       "├─Wav2Vec2Model: 1-1                                         --\n",
       "|    └─FeatureExtractor: 2-1                                 --\n",
       "|    |    └─ModuleList: 3-1                                  (4,200,448)\n",
       "|    └─Encoder: 2-2                                          --\n",
       "|    |    └─FeatureProjection: 3-2                           (395,008)\n",
       "|    |    └─Transformer: 3-3                                 (89,775,488)\n",
       "|    └─Linear: 2-3                                           (22,301)\n",
       "├─Wav2Vec2Head: 1-2                                          --\n",
       "|    └─Sequential: 2-4                                       --\n",
       "|    |    └─Conv2d: 3-4                                      864\n",
       "|    |    └─BatchNorm2d: 3-5                                 16\n",
       "|    |    └─ReLU: 3-6                                        --\n",
       "|    |    └─Conv2d: 3-7                                      288\n",
       "|    |    └─BatchNorm2d: 3-8                                 8\n",
       "|    |    └─ReLU: 3-9                                        --\n",
       "|    |    └─AdaptiveAvgPool2d: 3-10                          --\n",
       "|    |    └─Flatten: 3-11                                    --\n",
       "=====================================================================================\n",
       "Total params: 94,394,421\n",
       "Trainable params: 1,176\n",
       "Non-trainable params: 94,393,245\n",
       "====================================================================================="
      ]
     },
     "execution_count": 5,
     "metadata": {},
     "output_type": "execute_result"
    }
   ],
   "source": [
    "sample_size = nctes.LEN_SAMPLE\n",
    "dropout_probs=[]\n",
    "model = builder(n_labels=len(labels))\n",
    "model.to(device=device)\n",
    "\n",
    "summary(model, input_size=(1, sample_size))"
   ]
  },
  {
   "cell_type": "code",
   "execution_count": 6,
   "id": "c932b8ad",
   "metadata": {},
   "outputs": [],
   "source": [
    "data_path = pctes.DATAPATH\n",
    "transform = ToTensor()\n",
    "\n",
    "data = MRWDataset(data_path, transform, sample_size, labels)"
   ]
  },
  {
   "cell_type": "code",
   "execution_count": 7,
   "id": "0e0f9708",
   "metadata": {},
   "outputs": [],
   "source": [
    "batch_size = 8\n",
    "valid_size = 0.2\n",
    "test_size = 0.2\n",
    "\n",
    "train_loader, valid_loader, test_loader = create_data_loaders(batch_size, valid_size, test_size, data)"
   ]
  },
  {
   "cell_type": "code",
   "execution_count": 8,
   "id": "495e4b8d-1048-42fc-99dc-2793b3ec2f46",
   "metadata": {},
   "outputs": [
    {
     "name": "stdout",
     "output_type": "stream",
     "text": [
      "MSELoss()\n"
     ]
    }
   ],
   "source": [
    "criterion = nn.MSELoss()\n",
    "print(criterion)"
   ]
  },
  {
   "cell_type": "code",
   "execution_count": 9,
   "id": "e625ead6-b6bc-4f34-88b9-cb8f471434f1",
   "metadata": {},
   "outputs": [],
   "source": [
    "model_name = \"wav2vec test\" # name given to the trained model"
   ]
  },
  {
   "cell_type": "code",
   "execution_count": 10,
   "id": "73e641da",
   "metadata": {},
   "outputs": [
    {
     "name": "stdout",
     "output_type": "stream",
     "text": [
      "Adam (\n",
      "Parameter Group 0\n",
      "    amsgrad: False\n",
      "    betas: (0.9, 0.999)\n",
      "    capturable: False\n",
      "    differentiable: False\n",
      "    eps: 1e-08\n",
      "    foreach: None\n",
      "    fused: None\n",
      "    lr: 0.001\n",
      "    maximize: False\n",
      "    weight_decay: 0\n",
      ")\n"
     ]
    }
   ],
   "source": [
    "params = model.parameters()\n",
    "lr = 0.001\n",
    "optimizer = torch.optim.Adam(params, lr)\n",
    "print(optimizer)"
   ]
  },
  {
   "cell_type": "code",
   "execution_count": 11,
   "id": "373a7473-3538-4ceb-9871-696b599e57b0",
   "metadata": {},
   "outputs": [],
   "source": [
    "n_epochs = 2"
   ]
  },
  {
   "cell_type": "code",
   "execution_count": 12,
   "id": "60ed12d6-24d2-4f76-984b-30df3977dcc5",
   "metadata": {},
   "outputs": [],
   "source": [
    "timestamp = datetime.now().strftime('%Y_%m_%d__%H_%M_%S')\n",
    "arch_name  = builder.__name__\n",
    "hyperparams_path = f\"../../../data/models/hyperparams_{arch_name}_{timestamp}.npz\"\n",
    "model_path = f\"../../../data/models/model_{arch_name}_{timestamp}\"\n",
    "losses_path = f\"../../../data/models/losses_{arch_name}_{timestamp}.npz\""
   ]
  },
  {
   "cell_type": "code",
   "execution_count": 13,
   "id": "0cd2d3a0",
   "metadata": {},
   "outputs": [
    {
     "name": "stdout",
     "output_type": "stream",
     "text": [
      "2024_03_04__18_09_59\n",
      "Wav2Vec2\n"
     ]
    }
   ],
   "source": [
    "print(timestamp)\n",
    "print(arch_name)"
   ]
  },
  {
   "cell_type": "code",
   "execution_count": 14,
   "id": "5ee7af49-6207-49cc-8ea4-0d04490bc0d4",
   "metadata": {},
   "outputs": [],
   "source": [
    "np.savez(hyperparams_path, \n",
    "         len           = len(data), \n",
    "         test_size     = test_size, \n",
    "         valid_size    = valid_size, \n",
    "         epochs        = n_epochs, \n",
    "         batch_size    = batch_size, \n",
    "         criterion     = str(criterion), \n",
    "         optimizer     = str(optimizer), \n",
    "         lr            = lr,\n",
    "         seed          = seed,\n",
    "        #  weight_decay  = weight_decay, \n",
    "         dropout_probs = dropout_probs, \n",
    "         model_name    = model_name,\n",
    "         arch_name     = arch_name,\n",
    "         labels        = labels)"
   ]
  },
  {
   "cell_type": "code",
   "execution_count": 15,
   "id": "e3f05eac",
   "metadata": {},
   "outputs": [
    {
     "name": "stdout",
     "output_type": "stream",
     "text": [
      "Epoch 1/2 ...\n",
      "Training ...\n"
     ]
    },
    {
     "name": "stderr",
     "output_type": "stream",
     "text": [
      "  0%|          | 0/1024 [00:00<?, ?it/s]"
     ]
    },
    {
     "name": "stderr",
     "output_type": "stream",
     "text": [
      "100%|██████████| 1024/1024 [01:14<00:00, 13.80it/s]\n"
     ]
    },
    {
     "name": "stdout",
     "output_type": "stream",
     "text": [
      "Validating ...\n"
     ]
    },
    {
     "name": "stderr",
     "output_type": "stream",
     "text": [
      "100%|██████████| 256/256 [00:16<00:00, 15.74it/s]\n"
     ]
    },
    {
     "name": "stdout",
     "output_type": "stream",
     "text": [
      "Epoch: 1 \ttraining Loss: 0.108687 \tvalidation Loss: 0.092714\n",
      "Saving last model ...\n",
      "Validation loss decreased (inf --> 0.092714).  Saving best model too ...\n",
      "Saving loss ...\n",
      "Epoch 2/2 ...\n",
      "Training ...\n"
     ]
    },
    {
     "name": "stderr",
     "output_type": "stream",
     "text": [
      "100%|██████████| 1024/1024 [01:14<00:00, 13.79it/s]\n"
     ]
    },
    {
     "name": "stdout",
     "output_type": "stream",
     "text": [
      "Validating ...\n"
     ]
    },
    {
     "name": "stderr",
     "output_type": "stream",
     "text": [
      "100%|██████████| 256/256 [00:16<00:00, 15.71it/s]\n"
     ]
    },
    {
     "name": "stdout",
     "output_type": "stream",
     "text": [
      "Epoch: 2 \ttraining Loss: 0.096516 \tvalidation Loss: 0.097765\n",
      "Saving last model ...\n",
      "Saving loss ...\n"
     ]
    }
   ],
   "source": [
    "train_losses, valid_losses = Trainer.train(n_epochs, train_loader, valid_loader, model, criterion, optimizer, device, model_path, losses_path)"
   ]
  },
  {
   "cell_type": "code",
   "execution_count": 16,
   "id": "7bc2a1d0",
   "metadata": {},
   "outputs": [
    {
     "data": {
      "image/png": "[encoded data removed]",
      "text/plain": [
       "<Figure size 640x480 with 1 Axes>"
      ]
     },
     "metadata": {},
     "output_type": "display_data"
    }
   ],
   "source": [
    "plot_losses(len(train_losses), [train_losses, valid_losses], [\"Train\", \"Val\"])"
   ]
  }
 ],
 "metadata": {
  "@webio": {
   "lastCommId": null,
   "lastKernelId": null
  },
  "kernelspec": {
   "display_name": "Python 3 (ipykernel)",
   "language": "python",
   "name": "python3"
  },
  "language_info": {
   "codemirror_mode": {
    "name": "ipython",
    "version": 3
   },
   "file_extension": ".py",
   "mimetype": "text/x-python",
   "name": "python",
   "nbconvert_exporter": "python",
   "pygments_lexer": "ipython3",
   "version": "3.11.5"
  }
 },
 "nbformat": 4,
 "nbformat_minor": 5
}
