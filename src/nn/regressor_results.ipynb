{
 "cells": [
  {
   "cell_type": "code",
   "execution_count": 1,
   "id": "49cce0d9-b301-4e6d-ab85-3fcb243346fb",
   "metadata": {},
   "outputs": [],
   "source": [
    "from torchsummary import summary\n",
    "from tqdm import tqdm\n",
    "import torch.nn as nn\n",
    "import torch\n",
    "import random\n",
    "import numpy as np\n",
    "import matplotlib.pyplot as plt\n",
    "\n",
    "from src.nn.regression_dataset import RegressionDataset\n",
    "from src.nn.to_tensor import ToTensor\n",
    "from src.nn.create_data_loaders import create_data_loaders\n",
    "from src.nn.cnn_regressor import CNNRegressor\n",
    "from src.nn.plot_losses import plot_losses\n",
    "from src.nn.get_all_predictions import get_all_predictions\n",
    "import src.ctes.num_ctes as nctes\n",
    "import src.ctes.str_ctes as sctes\n",
    "import src.ctes.path_ctes as pctes"
   ]
  },
  {
   "cell_type": "code",
   "execution_count": 2,
   "id": "1e209aa7-db13-45e9-b9c8-16d77c91e939",
   "metadata": {},
   "outputs": [],
   "source": [
    "data_path = pctes.DATAPATH\n",
    "timestamp = \"2024_01_02__19_50_45\"\n",
    "hyperparams_path = f\"../../data/hyperparams_{timestamp}.npz\"\n",
    "model_path = f\"../../data/model_{timestamp}.pt\"\n",
    "losses_path = f\"../../data/losses_{timestamp}.npz\"\n",
    "losses_img_path = f\"../../data/losses_{timestamp}.png\""
   ]
  },
  {
   "cell_type": "code",
   "execution_count": 3,
   "id": "39020f38-09b6-4381-afc7-6a79d3876aa1",
   "metadata": {},
   "outputs": [
    {
     "name": "stdout",
     "output_type": "stream",
     "text": [
      "Using device cuda\n"
     ]
    }
   ],
   "source": [
    "device = torch.device('cuda' if torch.cuda.is_available() else 'cpu')\n",
    "print('Using device ' + str(device))"
   ]
  },
  {
   "cell_type": "code",
   "execution_count": 4,
   "id": "8ecaf084-0049-4b93-8ea4-372ce6384890",
   "metadata": {},
   "outputs": [
    {
     "name": "stdout",
     "output_type": "stream",
     "text": [
      "NpzFile '../../data/hyperparams_2024_01_02__19_50_45.npz' with keys: len, test_size, valid_size, epochs, batch_size...\n"
     ]
    }
   ],
   "source": [
    "hyperparams = np.load(hyperparams_path)\n",
    "print(hyperparams)"
   ]
  },
  {
   "cell_type": "code",
   "execution_count": 5,
   "id": "cc372ca3-44ed-4301-b385-0aea5fb515e3",
   "metadata": {},
   "outputs": [
    {
     "name": "stdout",
     "output_type": "stream",
     "text": [
      "int(hyperparams[sctes.LEN]) = 12800\n",
      "float(hyperparams[sctes.TEST_SIZE]) = 0.2\n",
      "int(hyperparams[sctes.LEN]*hyperparams[sctes.TEST_SIZE]) = 2560\n",
      "float(hyperparams[sctes.VALID_SIZE]) = 0.2\n",
      "int((hyperparams[sctes.LEN] - hyperparams[sctes.LEN]*hyperparams[sctes.TEST_SIZE])*hyperparams[sctes.VALID_SIZE]) = 2048\n",
      "int(hyperparams[sctes.EPOCHS]) = 2\n",
      "int(hyperparams[sctes.BATCH_SIZE]) = 6\n",
      "''.join(hyperparams[sctes.CRITERION].tolist()) = 'MSELoss()'\n",
      "''.join(hyperparams[sctes.OPTIMIZER].tolist()) = 'Adam (\\nParameter Group 0\\n    amsgrad: False\\n    betas: (0.9, 0.999)\\n    capturable: False\\n    differentiable: False\\n    eps: 1e-08\\n    foreach: None\\n    fused: None\\n    lr: 0.001\\n    maximize: False\\n    weight_decay: 0\\n)'\n",
      "float(hyperparams[sctes.LR]) = 0.001\n",
      "int(hyperparams[sctes.SEED]) = 42\n"
     ]
    }
   ],
   "source": [
    "print(f\"{int(hyperparams[sctes.LEN]) = }\")\n",
    "print(f\"{float(hyperparams[sctes.TEST_SIZE]) = }\")\n",
    "print(f\"{int(hyperparams[sctes.LEN]*hyperparams[sctes.TEST_SIZE]) = }\")\n",
    "print(f\"{float(hyperparams[sctes.VALID_SIZE]) = }\")\n",
    "print(f\"{int((hyperparams[sctes.LEN] - hyperparams[sctes.LEN]*hyperparams[sctes.TEST_SIZE])*hyperparams[sctes.VALID_SIZE]) = }\")\n",
    "print(f\"{int(hyperparams[sctes.EPOCHS]) = }\")\n",
    "print(f\"{int(hyperparams[sctes.BATCH_SIZE]) = }\")\n",
    "print(f\"{''.join(hyperparams[sctes.CRITERION].tolist()) = }\")\n",
    "print(f\"{''.join(hyperparams[sctes.OPTIMIZER].tolist()) = }\")\n",
    "print(f\"{float(hyperparams[sctes.LR]) = }\")\n",
    "print(f\"{int(hyperparams[sctes.SEED]) = }\")"
   ]
  },
  {
   "cell_type": "code",
   "execution_count": 6,
   "id": "0b8761bc-f484-4977-80ec-869838ff0ed6",
   "metadata": {},
   "outputs": [],
   "source": [
    "seed = int(hyperparams[sctes.SEED])\n",
    "torch.manual_seed(seed)\n",
    "random.seed(seed)\n",
    "np.random.seed(seed)"
   ]
  },
  {
   "cell_type": "code",
   "execution_count": 7,
   "id": "202320bc-5e58-43e5-8ab6-1d3fdadc0f14",
   "metadata": {},
   "outputs": [],
   "source": [
    "transform = ToTensor()\n",
    "sample_size = nctes.LEN_SAMPLE\n",
    "\n",
    "data = RegressionDataset(data_path, transform, sample_size)"
   ]
  },
  {
   "cell_type": "code",
   "execution_count": 8,
   "id": "362bc955-42da-4c62-8fac-4e7ddd7ec5d9",
   "metadata": {},
   "outputs": [],
   "source": [
    "batch_size = int(hyperparams[sctes.BATCH_SIZE])\n",
    "valid_size = float(hyperparams[sctes.VALID_SIZE])\n",
    "test_size = float(hyperparams[sctes.TEST_SIZE])\n",
    "\n",
    "train_loader, valid_loader, test_loader = create_data_loaders(batch_size, valid_size, test_size, data)"
   ]
  },
  {
   "cell_type": "code",
   "execution_count": 9,
   "id": "eb5f7cbb-75ae-4f0e-bc03-4f829168dea2",
   "metadata": {
    "scrolled": true
   },
   "outputs": [
    {
     "name": "stdout",
     "output_type": "stream",
     "text": [
      "==========================================================================================\n",
      "Layer (type:depth-idx)                   Output Shape              Param #\n",
      "==========================================================================================\n",
      "├─Sequential: 1-1                        [-1, 16, 32768]           --\n",
      "|    └─Conv1d: 2-1                       [-1, 16, 32768]           16\n",
      "|    └─BatchNorm1d: 2-2                  [-1, 16, 32768]           32\n",
      "|    └─ReLU: 2-3                         [-1, 16, 32768]           --\n",
      "├─Sequential: 1-2                        [-1, 32, 32767]           --\n",
      "|    └─Conv1d: 2-4                       [-1, 32, 32767]           1,024\n",
      "|    └─BatchNorm1d: 2-5                  [-1, 32, 32767]           64\n",
      "|    └─ReLU: 2-6                         [-1, 32, 32767]           --\n",
      "├─AvgPool1d: 1-3                         [-1, 32, 16384]           --\n",
      "├─Sequential: 1-4                        [-1, 64, 16381]           --\n",
      "|    └─Conv1d: 2-7                       [-1, 64, 16381]           8,192\n",
      "|    └─BatchNorm1d: 2-8                  [-1, 64, 16381]           128\n",
      "|    └─ReLU: 2-9                         [-1, 64, 16381]           --\n",
      "├─AvgPool1d: 1-5                         [-1, 64, 8191]            --\n",
      "├─Sequential: 1-6                        [-1, 128, 8184]           --\n",
      "|    └─Conv1d: 2-10                      [-1, 128, 8184]           65,536\n",
      "|    └─BatchNorm1d: 2-11                 [-1, 128, 8184]           256\n",
      "|    └─ReLU: 2-12                        [-1, 128, 8184]           --\n",
      "├─AvgPool1d: 1-7                         [-1, 128, 4092]           --\n",
      "├─Sequential: 1-8                        [-1, 256, 4077]           --\n",
      "|    └─Conv1d: 2-13                      [-1, 256, 4077]           524,288\n",
      "|    └─BatchNorm1d: 2-14                 [-1, 256, 4077]           512\n",
      "|    └─ReLU: 2-15                        [-1, 256, 4077]           --\n",
      "├─AvgPool1d: 1-9                         [-1, 256, 2039]           --\n",
      "├─Sequential: 1-10                       [-1, 256, 2008]           --\n",
      "|    └─Conv1d: 2-16                      [-1, 256, 2008]           2,097,152\n",
      "|    └─BatchNorm1d: 2-17                 [-1, 256, 2008]           512\n",
      "|    └─ReLU: 2-18                        [-1, 256, 2008]           --\n",
      "├─AvgPool1d: 1-11                        [-1, 256, 1004]           --\n",
      "├─Sequential: 1-12                       [-1, 256, 941]            --\n",
      "|    └─Conv1d: 2-19                      [-1, 256, 941]            4,194,304\n",
      "|    └─BatchNorm1d: 2-20                 [-1, 256, 941]            512\n",
      "|    └─ReLU: 2-21                        [-1, 256, 941]            --\n",
      "├─Flatten: 1-13                          [-1, 240896]              --\n",
      "├─Linear: 1-14                           [-1, 4]                   963,588\n",
      "├─Softplus: 1-15                         [-1, 4]                   --\n",
      "==========================================================================================\n",
      "Total params: 7,856,116\n",
      "Trainable params: 7,856,116\n",
      "Non-trainable params: 0\n",
      "Total mult-adds (G): 11.01\n",
      "==========================================================================================\n",
      "Input size (MB): 0.12\n",
      "Forward/backward pass size (MB): 83.43\n",
      "Params size (MB): 29.97\n",
      "Estimated Total Size (MB): 113.52\n",
      "==========================================================================================\n"
     ]
    },
    {
     "data": {
      "text/plain": [
       "==========================================================================================\n",
       "Layer (type:depth-idx)                   Output Shape              Param #\n",
       "==========================================================================================\n",
       "├─Sequential: 1-1                        [-1, 16, 32768]           --\n",
       "|    └─Conv1d: 2-1                       [-1, 16, 32768]           16\n",
       "|    └─BatchNorm1d: 2-2                  [-1, 16, 32768]           32\n",
       "|    └─ReLU: 2-3                         [-1, 16, 32768]           --\n",
       "├─Sequential: 1-2                        [-1, 32, 32767]           --\n",
       "|    └─Conv1d: 2-4                       [-1, 32, 32767]           1,024\n",
       "|    └─BatchNorm1d: 2-5                  [-1, 32, 32767]           64\n",
       "|    └─ReLU: 2-6                         [-1, 32, 32767]           --\n",
       "├─AvgPool1d: 1-3                         [-1, 32, 16384]           --\n",
       "├─Sequential: 1-4                        [-1, 64, 16381]           --\n",
       "|    └─Conv1d: 2-7                       [-1, 64, 16381]           8,192\n",
       "|    └─BatchNorm1d: 2-8                  [-1, 64, 16381]           128\n",
       "|    └─ReLU: 2-9                         [-1, 64, 16381]           --\n",
       "├─AvgPool1d: 1-5                         [-1, 64, 8191]            --\n",
       "├─Sequential: 1-6                        [-1, 128, 8184]           --\n",
       "|    └─Conv1d: 2-10                      [-1, 128, 8184]           65,536\n",
       "|    └─BatchNorm1d: 2-11                 [-1, 128, 8184]           256\n",
       "|    └─ReLU: 2-12                        [-1, 128, 8184]           --\n",
       "├─AvgPool1d: 1-7                         [-1, 128, 4092]           --\n",
       "├─Sequential: 1-8                        [-1, 256, 4077]           --\n",
       "|    └─Conv1d: 2-13                      [-1, 256, 4077]           524,288\n",
       "|    └─BatchNorm1d: 2-14                 [-1, 256, 4077]           512\n",
       "|    └─ReLU: 2-15                        [-1, 256, 4077]           --\n",
       "├─AvgPool1d: 1-9                         [-1, 256, 2039]           --\n",
       "├─Sequential: 1-10                       [-1, 256, 2008]           --\n",
       "|    └─Conv1d: 2-16                      [-1, 256, 2008]           2,097,152\n",
       "|    └─BatchNorm1d: 2-17                 [-1, 256, 2008]           512\n",
       "|    └─ReLU: 2-18                        [-1, 256, 2008]           --\n",
       "├─AvgPool1d: 1-11                        [-1, 256, 1004]           --\n",
       "├─Sequential: 1-12                       [-1, 256, 941]            --\n",
       "|    └─Conv1d: 2-19                      [-1, 256, 941]            4,194,304\n",
       "|    └─BatchNorm1d: 2-20                 [-1, 256, 941]            512\n",
       "|    └─ReLU: 2-21                        [-1, 256, 941]            --\n",
       "├─Flatten: 1-13                          [-1, 240896]              --\n",
       "├─Linear: 1-14                           [-1, 4]                   963,588\n",
       "├─Softplus: 1-15                         [-1, 4]                   --\n",
       "==========================================================================================\n",
       "Total params: 7,856,116\n",
       "Trainable params: 7,856,116\n",
       "Non-trainable params: 0\n",
       "Total mult-adds (G): 11.01\n",
       "==========================================================================================\n",
       "Input size (MB): 0.12\n",
       "Forward/backward pass size (MB): 83.43\n",
       "Params size (MB): 29.97\n",
       "Estimated Total Size (MB): 113.52\n",
       "=========================================================================================="
      ]
     },
     "execution_count": 9,
     "metadata": {},
     "output_type": "execute_result"
    }
   ],
   "source": [
    "model = CNNRegressor(input_size=sample_size)\n",
    "model.to(device=device)\n",
    "model.load_state_dict(torch.load(model_path, map_location=device))\n",
    "summary(model, (1, sample_size))"
   ]
  },
  {
   "cell_type": "code",
   "execution_count": 10,
   "id": "e69cdfeb-da88-4f16-9dd7-582c576f2159",
   "metadata": {},
   "outputs": [],
   "source": [
    "losses = np.load(losses_path)\n",
    "train_losses = losses[sctes.TRAIN]\n",
    "valid_losses = losses[sctes.VAL]"
   ]
  },
  {
   "cell_type": "code",
   "execution_count": 11,
   "id": "5b30e607-5a3f-4315-83b7-dc16e36d2c80",
   "metadata": {},
   "outputs": [
    {
     "name": "stdout",
     "output_type": "stream",
     "text": [
      "criterion = MSELoss()\n"
     ]
    }
   ],
   "source": [
    "criterion = nn.MSELoss()\n",
    "print(f\"{criterion = }\")"
   ]
  },
  {
   "cell_type": "code",
   "execution_count": 12,
   "id": "41cf1305-04b4-4659-847a-2f7f6a1ffd38",
   "metadata": {},
   "outputs": [
    {
     "name": "stdout",
     "output_type": "stream",
     "text": [
      "Sample length    = 32768\n",
      "Total samples    = 12800\n",
      "Train samples    = 8192\n",
      "Valid samples    = 2048\n",
      "Test samples     = 2560\n",
      "Batch size       = 6\n",
      "Number of epochs = 2\n",
      "Loss             = MSELoss()\n",
      "Optimizer        = Adam (\n",
      "Parameter Group 0\n",
      "    amsgrad: False\n",
      "    betas: (0.9, 0.999)\n",
      "    capturable: False\n",
      "    differentiable: False\n",
      "    eps: 1e-08\n",
      "    foreach: None\n",
      "    fused: None\n",
      "    lr: 0.001\n",
      "    maximize: False\n",
      "    weight_decay: 0\n",
      ")\n",
      "Learning rate    = 0.001\n",
      "Seed             = 42.0\n"
     ]
    }
   ],
   "source": [
    "data_len = int(hyperparams[sctes.LEN])\n",
    "test_len = int(hyperparams[sctes.LEN]*hyperparams[sctes.TEST_SIZE])\n",
    "valid_len = int((hyperparams[sctes.LEN] - hyperparams[sctes.LEN]*hyperparams[sctes.TEST_SIZE])*hyperparams[sctes.VALID_SIZE])\n",
    "train_len = data_len - test_len - valid_len\n",
    "\n",
    "print(f\"Sample length    = {nctes.LEN_SAMPLE}\")\n",
    "print(f\"Total samples    = {data_len}\")\n",
    "print(f\"Train samples    = {train_len}\")\n",
    "print(f\"Valid samples    = {valid_len}\")\n",
    "print(f\"Test samples     = {test_len}\")\n",
    "print(f\"Batch size       = {int(hyperparams[sctes.BATCH_SIZE])}\")\n",
    "print(f\"Number of epochs = {int(hyperparams[sctes.EPOCHS])}\")\n",
    "print(f\"Loss             = {''.join(hyperparams[sctes.CRITERION].tolist())}\")\n",
    "print(f\"Optimizer        = {''.join(hyperparams[sctes.OPTIMIZER].tolist())}\")\n",
    "print(f\"Learning rate    = {float(hyperparams[sctes.LR])}\")\n",
    "print(f\"Seed             = {float(hyperparams[sctes.SEED])}\")"
   ]
  },
  {
   "cell_type": "code",
   "execution_count": 13,
   "id": "02e6896d-9cf8-4348-8201-5592d623dbc1",
   "metadata": {},
   "outputs": [
    {
     "data": {
      "image/png": "[encoded data removed]",
      "text/plain": [
       "<Figure size 640x480 with 1 Axes>"
      ]
     },
     "metadata": {},
     "output_type": "display_data"
    }
   ],
   "source": [
    "plot_losses(len(train_losses), [train_losses, valid_losses], [\"Train\", \"Val\"])\n",
    "# plt.savefig(losses_img_path)"
   ]
  },
  {
   "cell_type": "code",
   "execution_count": 14,
   "id": "f6a6c626-cb41-4a45-bb44-6d92d065258d",
   "metadata": {},
   "outputs": [
    {
     "name": "stderr",
     "output_type": "stream",
     "text": [
      "  0%|          | 1/427 [00:00<03:01,  2.35it/s]"
     ]
    },
    {
     "name": "stderr",
     "output_type": "stream",
     "text": [
      "100%|██████████| 427/427 [00:16<00:00, 25.33it/s]\n"
     ]
    }
   ],
   "source": [
    "targets, preds = get_all_predictions(model, test_loader, device)"
   ]
  },
  {
   "cell_type": "code",
   "execution_count": 15,
   "id": "437867db-fec7-45e4-8f4a-946831ba4918",
   "metadata": {},
   "outputs": [
    {
     "name": "stderr",
     "output_type": "stream",
     "text": [
      "2560it [00:00, 8354.08it/s]\n"
     ]
    }
   ],
   "source": [
    "test_losses = [] \n",
    "for target, pred in tqdm(zip(targets, preds)):\n",
    "    target = torch.FloatTensor(target).to(device=device)\n",
    "    pred = torch.FloatTensor(pred).to(device=device)\n",
    "    test_losses.append(criterion(target, pred).item())\n",
    "test_losses = np.array(test_losses)"
   ]
  },
  {
   "cell_type": "code",
   "execution_count": 16,
   "id": "35cec305-2656-4bd1-97dc-9e027fe58724",
   "metadata": {},
   "outputs": [],
   "source": [
    "idx_sort    = np.flip(np.argsort(test_losses))\n",
    "test_losses = test_losses[idx_sort]\n",
    "targets     = targets[idx_sort]\n",
    "preds       = preds[idx_sort]"
   ]
  },
  {
   "cell_type": "code",
   "execution_count": 17,
   "id": "1929f2b1-33cf-442e-bd2e-70e522f2b05b",
   "metadata": {},
   "outputs": [
    {
     "name": "stdout",
     "output_type": "stream",
     "text": [
      "Total Test MSE = 0.3846\n"
     ]
    }
   ],
   "source": [
    "total_test_loss = np.mean(test_losses)\n",
    "print(\"Total Test MSE = {:0.4f}\".format(total_test_loss))"
   ]
  },
  {
   "cell_type": "code",
   "execution_count": 18,
   "id": "8b7c0987-dddb-4c37-9c53-f76e37e05eb4",
   "metadata": {},
   "outputs": [
    {
     "name": "stdout",
     "output_type": "stream",
     "text": [
      "10 Worst Results ==>\n",
      "                 c1         c2          L       epsilon\n",
      "Target      = ['1.0000', '1.0000', '1.0000', '1.0000']\n",
      "Prediction  = ['0.0000', '0.0000', '0.0000', '0.0000']\n",
      "MSE         = 1.0000\n",
      "\n",
      "                 c1         c2          L       epsilon\n",
      "Target      = ['1.0000', '1.0000', '1.0000', '1.0000']\n",
      "Prediction  = ['0.0000', '0.0000', '0.0000', '0.0000']\n",
      "MSE         = 1.0000\n",
      "\n",
      "                 c1         c2          L       epsilon\n",
      "Target      = ['1.0000', '1.0000', '1.0000', '1.0000']\n",
      "Prediction  = ['0.0000', '0.0000', '0.0000', '0.0000']\n",
      "MSE         = 1.0000\n",
      "\n",
      "                 c1         c2          L       epsilon\n",
      "Target      = ['1.0000', '1.0000', '1.0000', '1.0000']\n",
      "Prediction  = ['0.0000', '0.0000', '0.0000', '0.0000']\n",
      "MSE         = 1.0000\n",
      "\n",
      "                 c1         c2          L       epsilon\n",
      "Target      = ['1.0000', '1.0000', '1.0000', '1.0000']\n",
      "Prediction  = ['0.0000', '0.0000', '0.0000', '0.0000']\n",
      "MSE         = 1.0000\n",
      "\n",
      "                 c1         c2          L       epsilon\n",
      "Target      = ['1.0000', '1.0000', '1.0000', '1.0000']\n",
      "Prediction  = ['0.0000', '0.0000', '0.0000', '0.0000']\n",
      "MSE         = 1.0000\n",
      "\n",
      "                 c1         c2          L       epsilon\n",
      "Target      = ['1.0000', '1.0000', '1.0000', '1.0000']\n",
      "Prediction  = ['0.0000', '0.0000', '0.0000', '0.0000']\n",
      "MSE         = 1.0000\n",
      "\n",
      "                 c1         c2          L       epsilon\n",
      "Target      = ['1.0000', '1.0000', '1.0000', '1.0000']\n",
      "Prediction  = ['0.0000', '0.0000', '0.0000', '0.0000']\n",
      "MSE         = 1.0000\n",
      "\n",
      "                 c1         c2          L       epsilon\n",
      "Target      = ['1.0000', '1.0000', '1.0000', '0.7500']\n",
      "Prediction  = ['0.0000', '0.0000', '0.0000', '0.0000']\n",
      "MSE         = 0.8906\n",
      "\n",
      "                 c1         c2          L       epsilon\n",
      "Target      = ['1.0000', '1.0000', '1.0000', '0.7500']\n",
      "Prediction  = ['0.0000', '0.0000', '0.0000', '0.0000']\n",
      "MSE         = 0.8906\n",
      "\n"
     ]
    }
   ],
   "source": [
    "n_show = 10\n",
    "print(f\"{n_show} Worst Results ==>\")\n",
    "for i in range(n_show):\n",
    "    print(f\"                 c1         c2          L       epsilon\")\n",
    "    print(f\"Target      = {['{:0.4f}'.format(f) for f in targets[i]]}\")\n",
    "    print(f\"Prediction  = {['{:0.4f}'.format(f) for f in preds[i]]}\")\n",
    "    print(f\"MSE         = {'{:0.4f}'.format(test_losses[i])}\")\n",
    "    print()"
   ]
  },
  {
   "cell_type": "code",
   "execution_count": 19,
   "id": "e9b7ade1-b91a-449c-a449-f30e33bb5d91",
   "metadata": {},
   "outputs": [
    {
     "name": "stdout",
     "output_type": "stream",
     "text": [
      "10 Best Results ==>\n",
      "                 c1         c2          L       epsilon\n",
      "Target      = ['0.0000', '0.0000', '0.0000', '0.2500']\n",
      "Prediction  = ['0.0000', '0.0000', '0.0000', '0.0000']\n",
      "WeightedMSE = 0.0156\n",
      "\n",
      "                 c1         c2          L       epsilon\n",
      "Target      = ['0.0000', '0.0000', '0.2500', '0.0000']\n",
      "Prediction  = ['0.0000', '0.0000', '0.0000', '0.0000']\n",
      "WeightedMSE = 0.0156\n",
      "\n",
      "                 c1         c2          L       epsilon\n",
      "Target      = ['0.0000', '0.0000', '0.0000', '0.2500']\n",
      "Prediction  = ['0.0000', '0.0000', '0.0000', '0.0000']\n",
      "WeightedMSE = 0.0156\n",
      "\n",
      "                 c1         c2          L       epsilon\n",
      "Target      = ['0.0000', '0.0000', '0.0000', '0.0000']\n",
      "Prediction  = ['0.0000', '0.0000', '0.0000', '0.0000']\n",
      "WeightedMSE = 0.0000\n",
      "\n",
      "                 c1         c2          L       epsilon\n",
      "Target      = ['0.0000', '0.0000', '0.0000', '0.0000']\n",
      "Prediction  = ['0.0000', '0.0000', '0.0000', '0.0000']\n",
      "WeightedMSE = 0.0000\n",
      "\n",
      "                 c1         c2          L       epsilon\n",
      "Target      = ['0.0000', '0.0000', '0.0000', '0.0000']\n",
      "Prediction  = ['0.0000', '0.0000', '0.0000', '0.0000']\n",
      "WeightedMSE = 0.0000\n",
      "\n",
      "                 c1         c2          L       epsilon\n",
      "Target      = ['0.0000', '0.0000', '0.0000', '0.0000']\n",
      "Prediction  = ['0.0000', '0.0000', '0.0000', '0.0000']\n",
      "WeightedMSE = 0.0000\n",
      "\n",
      "                 c1         c2          L       epsilon\n",
      "Target      = ['0.0000', '0.0000', '0.0000', '0.0000']\n",
      "Prediction  = ['0.0000', '0.0000', '0.0000', '0.0000']\n",
      "WeightedMSE = 0.0000\n",
      "\n",
      "                 c1         c2          L       epsilon\n",
      "Target      = ['0.0000', '0.0000', '0.0000', '0.0000']\n",
      "Prediction  = ['0.0000', '0.0000', '0.0000', '0.0000']\n",
      "WeightedMSE = 0.0000\n",
      "\n",
      "                 c1         c2          L       epsilon\n",
      "Target      = ['0.0000', '0.0000', '0.0000', '0.0000']\n",
      "Prediction  = ['0.0000', '0.0000', '0.0000', '0.0000']\n",
      "WeightedMSE = 0.0000\n",
      "\n"
     ]
    }
   ],
   "source": [
    "n_show = 10\n",
    "print(f\"{n_show} Best Results ==>\")\n",
    "for i in range(n_show, 0, -1):\n",
    "    print(f\"                 c1         c2          L       epsilon\")\n",
    "    print(f\"Target      = {['{:0.4f}'.format(f) for f in targets[-i]]}\")\n",
    "    print(f\"Prediction  = {['{:0.4f}'.format(f) for f in preds[-i]]}\")\n",
    "    print(f\"WeightedMSE = {'{:0.4f}'.format(test_losses[-i])}\")\n",
    "    print()"
   ]
  },
  {
   "cell_type": "code",
   "execution_count": 21,
   "id": "a2e68a87-fed9-4c23-a75f-95e5a1504090",
   "metadata": {},
   "outputs": [],
   "source": [
    "# ToDo\n",
    " \n",
    "# On cnn_base.py : \n",
    "# Change Flatten layer by some ConvTranspose1d before the linear dense layer"
   ]
  }
 ],
 "metadata": {
  "kernelspec": {
   "display_name": "Python 3 (ipykernel)",
   "language": "python",
   "name": "python3"
  },
  "language_info": {
   "codemirror_mode": {
    "name": "ipython",
    "version": 3
   },
   "file_extension": ".py",
   "mimetype": "text/x-python",
   "name": "python",
   "nbconvert_exporter": "python",
   "pygments_lexer": "ipython3",
   "version": "3.11.5"
  }
 },
 "nbformat": 4,
 "nbformat_minor": 5
}
