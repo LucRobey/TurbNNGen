{
 "cells": [
  {
   "cell_type": "code",
   "execution_count": 27,
   "id": "49cce0d9-b301-4e6d-ab85-3fcb243346fb",
   "metadata": {},
   "outputs": [],
   "source": [
    "from torchsummary import summary\n",
    "import torch.nn as nn\n",
    "import torch\n",
    "import numpy as np\n",
    "\n",
    "from src.nn.regression_dataset import RegressionDataset\n",
    "from src.nn.to_tensor import ToTensor\n",
    "from src.nn.create_data_loaders import create_data_loaders\n",
    "from src.nn.cnn_regressor import CNNRegressor\n",
    "from src.nn.weighted_mse_loss import WeightedMSELoss\n",
    "from src.nn.plot_losses import plot_losses\n",
    "from src.data.synthMRWregul import synthMRWregul\n",
    "import src.ctes.num_ctes as nctes\n",
    "import src.ctes.str_ctes as sctes"
   ]
  },
  {
   "cell_type": "code",
   "execution_count": 28,
   "id": "1e209aa7-db13-45e9-b9c8-16d77c91e939",
   "metadata": {},
   "outputs": [],
   "source": [
    "data_path = \"../../data/MRW.npz\"\n",
    "timestamp = \"2023_11_21__18_49_42\"\n",
    "model_path = f\"../../data/model_{timestamp}.pt\"\n",
    "losses_path = f\"../../data/losses_{timestamp}.npz\""
   ]
  },
  {
   "cell_type": "code",
   "execution_count": 29,
   "id": "39020f38-09b6-4381-afc7-6a79d3876aa1",
   "metadata": {},
   "outputs": [
    {
     "name": "stdout",
     "output_type": "stream",
     "text": [
      "Using device cuda\n"
     ]
    }
   ],
   "source": [
    "device = torch.device('cuda' if torch.cuda.is_available() else 'cpu')\n",
    "print('Using device ' + str(device))"
   ]
  },
  {
   "cell_type": "code",
   "execution_count": 30,
   "id": "202320bc-5e58-43e5-8ab6-1d3fdadc0f14",
   "metadata": {},
   "outputs": [],
   "source": [
    "transform = ToTensor()\n",
    "sample_size = nctes.LEN_SAMPLE\n",
    "\n",
    "data = RegressionDataset(data_path, transform, sample_size)"
   ]
  },
  {
   "cell_type": "code",
   "execution_count": 31,
   "id": "eb5f7cbb-75ae-4f0e-bc03-4f829168dea2",
   "metadata": {
    "scrolled": true
   },
   "outputs": [
    {
     "name": "stdout",
     "output_type": "stream",
     "text": [
      "==========================================================================================\n",
      "Layer (type:depth-idx)                   Output Shape              Param #\n",
      "==========================================================================================\n",
      "├─Sequential: 1-1                        [-1, 16, 32768]           --\n",
      "|    └─Conv1d: 2-1                       [-1, 16, 32768]           16\n",
      "|    └─BatchNorm1d: 2-2                  [-1, 16, 32768]           32\n",
      "|    └─ReLU: 2-3                         [-1, 16, 32768]           --\n",
      "├─Sequential: 1-2                        [-1, 32, 32767]           --\n",
      "|    └─Conv1d: 2-4                       [-1, 32, 32767]           1,024\n",
      "|    └─BatchNorm1d: 2-5                  [-1, 32, 32767]           64\n",
      "|    └─ReLU: 2-6                         [-1, 32, 32767]           --\n",
      "├─AvgPool1d: 1-3                         [-1, 32, 16384]           --\n",
      "├─Sequential: 1-4                        [-1, 64, 16381]           --\n",
      "|    └─Conv1d: 2-7                       [-1, 64, 16381]           8,192\n",
      "|    └─BatchNorm1d: 2-8                  [-1, 64, 16381]           128\n",
      "|    └─ReLU: 2-9                         [-1, 64, 16381]           --\n",
      "├─AvgPool1d: 1-5                         [-1, 64, 8191]            --\n",
      "├─Sequential: 1-6                        [-1, 128, 8184]           --\n",
      "|    └─Conv1d: 2-10                      [-1, 128, 8184]           65,536\n",
      "|    └─BatchNorm1d: 2-11                 [-1, 128, 8184]           256\n",
      "|    └─ReLU: 2-12                        [-1, 128, 8184]           --\n",
      "├─AvgPool1d: 1-7                         [-1, 128, 4092]           --\n",
      "├─Sequential: 1-8                        [-1, 256, 4077]           --\n",
      "|    └─Conv1d: 2-13                      [-1, 256, 4077]           524,288\n",
      "|    └─BatchNorm1d: 2-14                 [-1, 256, 4077]           512\n",
      "|    └─ReLU: 2-15                        [-1, 256, 4077]           --\n",
      "├─AvgPool1d: 1-9                         [-1, 256, 2039]           --\n",
      "├─Sequential: 1-10                       [-1, 256, 2008]           --\n",
      "|    └─Conv1d: 2-16                      [-1, 256, 2008]           2,097,152\n",
      "|    └─BatchNorm1d: 2-17                 [-1, 256, 2008]           512\n",
      "|    └─ReLU: 2-18                        [-1, 256, 2008]           --\n",
      "├─AvgPool1d: 1-11                        [-1, 256, 1004]           --\n",
      "├─Sequential: 1-12                       [-1, 256, 941]            --\n",
      "|    └─Conv1d: 2-19                      [-1, 256, 941]            4,194,304\n",
      "|    └─BatchNorm1d: 2-20                 [-1, 256, 941]            512\n",
      "|    └─ReLU: 2-21                        [-1, 256, 941]            --\n",
      "├─Flatten: 1-13                          [-1, 240896]              --\n",
      "├─Linear: 1-14                           [-1, 4]                   963,588\n",
      "==========================================================================================\n",
      "Total params: 7,856,116\n",
      "Trainable params: 7,856,116\n",
      "Non-trainable params: 0\n",
      "Total mult-adds (G): 11.01\n",
      "==========================================================================================\n",
      "Input size (MB): 0.12\n",
      "Forward/backward pass size (MB): 83.43\n",
      "Params size (MB): 29.97\n",
      "Estimated Total Size (MB): 113.52\n",
      "==========================================================================================\n"
     ]
    },
    {
     "data": {
      "text/plain": [
       "==========================================================================================\n",
       "Layer (type:depth-idx)                   Output Shape              Param #\n",
       "==========================================================================================\n",
       "├─Sequential: 1-1                        [-1, 16, 32768]           --\n",
       "|    └─Conv1d: 2-1                       [-1, 16, 32768]           16\n",
       "|    └─BatchNorm1d: 2-2                  [-1, 16, 32768]           32\n",
       "|    └─ReLU: 2-3                         [-1, 16, 32768]           --\n",
       "├─Sequential: 1-2                        [-1, 32, 32767]           --\n",
       "|    └─Conv1d: 2-4                       [-1, 32, 32767]           1,024\n",
       "|    └─BatchNorm1d: 2-5                  [-1, 32, 32767]           64\n",
       "|    └─ReLU: 2-6                         [-1, 32, 32767]           --\n",
       "├─AvgPool1d: 1-3                         [-1, 32, 16384]           --\n",
       "├─Sequential: 1-4                        [-1, 64, 16381]           --\n",
       "|    └─Conv1d: 2-7                       [-1, 64, 16381]           8,192\n",
       "|    └─BatchNorm1d: 2-8                  [-1, 64, 16381]           128\n",
       "|    └─ReLU: 2-9                         [-1, 64, 16381]           --\n",
       "├─AvgPool1d: 1-5                         [-1, 64, 8191]            --\n",
       "├─Sequential: 1-6                        [-1, 128, 8184]           --\n",
       "|    └─Conv1d: 2-10                      [-1, 128, 8184]           65,536\n",
       "|    └─BatchNorm1d: 2-11                 [-1, 128, 8184]           256\n",
       "|    └─ReLU: 2-12                        [-1, 128, 8184]           --\n",
       "├─AvgPool1d: 1-7                         [-1, 128, 4092]           --\n",
       "├─Sequential: 1-8                        [-1, 256, 4077]           --\n",
       "|    └─Conv1d: 2-13                      [-1, 256, 4077]           524,288\n",
       "|    └─BatchNorm1d: 2-14                 [-1, 256, 4077]           512\n",
       "|    └─ReLU: 2-15                        [-1, 256, 4077]           --\n",
       "├─AvgPool1d: 1-9                         [-1, 256, 2039]           --\n",
       "├─Sequential: 1-10                       [-1, 256, 2008]           --\n",
       "|    └─Conv1d: 2-16                      [-1, 256, 2008]           2,097,152\n",
       "|    └─BatchNorm1d: 2-17                 [-1, 256, 2008]           512\n",
       "|    └─ReLU: 2-18                        [-1, 256, 2008]           --\n",
       "├─AvgPool1d: 1-11                        [-1, 256, 1004]           --\n",
       "├─Sequential: 1-12                       [-1, 256, 941]            --\n",
       "|    └─Conv1d: 2-19                      [-1, 256, 941]            4,194,304\n",
       "|    └─BatchNorm1d: 2-20                 [-1, 256, 941]            512\n",
       "|    └─ReLU: 2-21                        [-1, 256, 941]            --\n",
       "├─Flatten: 1-13                          [-1, 240896]              --\n",
       "├─Linear: 1-14                           [-1, 4]                   963,588\n",
       "==========================================================================================\n",
       "Total params: 7,856,116\n",
       "Trainable params: 7,856,116\n",
       "Non-trainable params: 0\n",
       "Total mult-adds (G): 11.01\n",
       "==========================================================================================\n",
       "Input size (MB): 0.12\n",
       "Forward/backward pass size (MB): 83.43\n",
       "Params size (MB): 29.97\n",
       "Estimated Total Size (MB): 113.52\n",
       "=========================================================================================="
      ]
     },
     "execution_count": 31,
     "metadata": {},
     "output_type": "execute_result"
    }
   ],
   "source": [
    "model = CNNRegressor(input_size=sample_size)\n",
    "model.to(device=device)\n",
    "model.load_state_dict(torch.load(model_path, map_location=device))\n",
    "summary(model, (1, sample_size))"
   ]
  },
  {
   "cell_type": "code",
   "execution_count": 32,
   "id": "e69cdfeb-da88-4f16-9dd7-582c576f2159",
   "metadata": {},
   "outputs": [],
   "source": [
    "losses = np.load(losses_path)\n",
    "train_losses = losses[sctes.TRAIN]\n",
    "valid_losses = losses[sctes.VAL]"
   ]
  },
  {
   "cell_type": "code",
   "execution_count": 33,
   "id": "5b30e607-5a3f-4315-83b7-dc16e36d2c80",
   "metadata": {},
   "outputs": [
    {
     "name": "stdout",
     "output_type": "stream",
     "text": [
      "criterion = WeightedMSELoss()\n",
      "criterion.weights = tensor([1.2500e+00, 1.2500e+01, 2.0000e-04, 2.2222e-01], device='cuda:0')\n"
     ]
    }
   ],
   "source": [
    "c1_weight      = 1 / 0.8\n",
    "c2_weight      = 1 / 0.08\n",
    "L_weight       = 1 / 5000\n",
    "epsilon_weight = 1 / 4.5\n",
    "mse_weights    = torch.FloatTensor([c1_weight, c2_weight, L_weight, epsilon_weight]).to(device=device)\n",
    "criterion = WeightedMSELoss(mse_weights)\n",
    "print(f\"{criterion = }\")\n",
    "print(f\"{criterion.weights = }\")"
   ]
  },
  {
   "cell_type": "code",
   "execution_count": 34,
   "id": "02e6896d-9cf8-4348-8201-5592d623dbc1",
   "metadata": {},
   "outputs": [
    {
     "data": {
      "image/png": "[encoded data removed]",
      "text/plain": [
       "<Figure size 640x480 with 1 Axes>"
      ]
     },
     "metadata": {},
     "output_type": "display_data"
    }
   ],
   "source": [
    "plot_losses(len(train_losses), [train_losses_, valid_losses_], [\"Train\", \"Val\"])"
   ]
  }
 ],
 "metadata": {
  "kernelspec": {
   "display_name": "Python 3 (ipykernel)",
   "language": "python",
   "name": "python3"
  },
  "language_info": {
   "codemirror_mode": {
    "name": "ipython",
    "version": 3
   },
   "file_extension": ".py",
   "mimetype": "text/x-python",
   "name": "python",
   "nbconvert_exporter": "python",
   "pygments_lexer": "ipython3",
   "version": "3.11.5"
  }
 },
 "nbformat": 4,
 "nbformat_minor": 5
}
