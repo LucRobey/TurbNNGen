{
 "cells": [
  {
   "cell_type": "code",
   "execution_count": 6,
   "id": "49cce0d9-b301-4e6d-ab85-3fcb243346fb",
   "metadata": {},
   "outputs": [],
   "source": [
    "from torchsummary import summary\n",
    "from tqdm import tqdm\n",
    "import torch.nn as nn\n",
    "import torch\n",
    "import random\n",
    "import numpy as np\n",
    "\n",
    "from src.nn.regression_dataset import RegressionDataset\n",
    "from src.nn.to_tensor import ToTensor\n",
    "from src.nn.create_data_loaders import create_data_loaders\n",
    "from src.nn.cnn_regressor import CNNRegressor\n",
    "from src.nn.weighted_mse_loss import WeightedMSELoss\n",
    "from src.nn.plot_losses import plot_losses\n",
    "from src.nn.get_all_predictions import get_all_predictions\n",
    "from src.data.synthMRWregul import synthMRWregul\n",
    "import src.ctes.num_ctes as nctes\n",
    "import src.ctes.str_ctes as sctes"
   ]
  },
  {
   "cell_type": "code",
   "execution_count": 7,
   "id": "1e209aa7-db13-45e9-b9c8-16d77c91e939",
   "metadata": {},
   "outputs": [],
   "source": [
    "data_path = \"../../data/MRW.npz\"\n",
    "timestamp = \"2023_11_21__18_49_42\"\n",
    "hyperparams_path = f\"../../data/hyperparams_{timestamp}.npz\"\n",
    "model_path = f\"../../data/model_{timestamp}.pt\"\n",
    "losses_path = f\"../../data/losses_{timestamp}.npz\""
   ]
  },
  {
   "cell_type": "code",
   "execution_count": 8,
   "id": "39020f38-09b6-4381-afc7-6a79d3876aa1",
   "metadata": {},
   "outputs": [
    {
     "name": "stdout",
     "output_type": "stream",
     "text": [
      "Using device cuda\n"
     ]
    }
   ],
   "source": [
    "device = torch.device('cuda' if torch.cuda.is_available() else 'cpu')\n",
    "print('Using device ' + str(device))"
   ]
  },
  {
   "cell_type": "code",
   "execution_count": 9,
   "id": "8ecaf084-0049-4b93-8ea4-372ce6384890",
   "metadata": {},
   "outputs": [
    {
     "name": "stdout",
     "output_type": "stream",
     "text": [
      "NpzFile '../../data/hyperparams_2023_11_21__18_49_42.npz' with keys: len, test_size, valid_size, epochs, batch_size...\n"
     ]
    }
   ],
   "source": [
    "hyperparams = np.load(hyperparams_path)\n",
    "print(hyperparams)"
   ]
  },
  {
   "cell_type": "code",
   "execution_count": 10,
   "id": "cc372ca3-44ed-4301-b385-0aea5fb515e3",
   "metadata": {},
   "outputs": [
    {
     "name": "stdout",
     "output_type": "stream",
     "text": [
      "int(hyperparams[sctes.LEN]) = 12800\n",
      "float(hyperparams[sctes.TEST_SIZE]) = 0.8\n",
      "int(hyperparams[sctes.LEN]*hyperparams[sctes.TEST_SIZE]) = 10240\n",
      "float(hyperparams[sctes.VALID_SIZE]) = 0.2\n",
      "int((hyperparams[sctes.LEN] - hyperparams[sctes.LEN]*hyperparams[sctes.TEST_SIZE])*hyperparams[sctes.VALID_SIZE]) = 512\n",
      "int(hyperparams[sctes.EPOCHS]) = 20\n",
      "int(hyperparams[sctes.BATCH_SIZE]) = 64\n",
      "''.join(hyperparams[sctes.CRITERION].tolist()) = \"WeightedMSELoss(weights=tensor([1.2500e+00, 1.2500e+01, 2.0000e-04, 2.2222e-01], device='cuda:0'))\"\n",
      "''.join(hyperparams[sctes.OPTIMIZER].tolist()) = 'Adam (\\nParameter Group 0\\n    amsgrad: False\\n    betas: (0.9, 0.999)\\n    capturable: False\\n    differentiable: False\\n    eps: 1e-08\\n    foreach: None\\n    fused: None\\n    lr: 0.001\\n    maximize: False\\n    weight_decay: 0\\n)'\n",
      "float(hyperparams[sctes.LR]) = 0.001\n",
      "int(hyperparams[sctes.SEED]) = 42\n"
     ]
    }
   ],
   "source": [
    "print(f\"{int(hyperparams[sctes.LEN]) = }\")\n",
    "print(f\"{float(hyperparams[sctes.TEST_SIZE]) = }\")\n",
    "print(f\"{int(hyperparams[sctes.LEN]*hyperparams[sctes.TEST_SIZE]) = }\")\n",
    "print(f\"{float(hyperparams[sctes.VALID_SIZE]) = }\")\n",
    "print(f\"{int((hyperparams[sctes.LEN] - hyperparams[sctes.LEN]*hyperparams[sctes.TEST_SIZE])*hyperparams[sctes.VALID_SIZE]) = }\")\n",
    "print(f\"{int(hyperparams[sctes.EPOCHS]) = }\")\n",
    "print(f\"{int(hyperparams[sctes.BATCH_SIZE]) = }\")\n",
    "print(f\"{''.join(hyperparams[sctes.CRITERION].tolist()) = }\")\n",
    "print(f\"{''.join(hyperparams[sctes.OPTIMIZER].tolist()) = }\")\n",
    "print(f\"{float(hyperparams[sctes.LR]) = }\")\n",
    "print(f\"{int(hyperparams[sctes.SEED]) = }\")"
   ]
  },
  {
   "cell_type": "code",
   "execution_count": 11,
   "id": "0b8761bc-f484-4977-80ec-869838ff0ed6",
   "metadata": {},
   "outputs": [],
   "source": [
    "seed = int(hyperparams[sctes.SEED])\n",
    "torch.manual_seed(seed)\n",
    "random.seed(seed)\n",
    "np.random.seed(seed)"
   ]
  },
  {
   "cell_type": "code",
   "execution_count": 12,
   "id": "202320bc-5e58-43e5-8ab6-1d3fdadc0f14",
   "metadata": {},
   "outputs": [],
   "source": [
    "transform = ToTensor()\n",
    "sample_size = nctes.LEN_SAMPLE\n",
    "\n",
    "data = RegressionDataset(data_path, transform, sample_size)"
   ]
  },
  {
   "cell_type": "code",
   "execution_count": 13,
   "id": "362bc955-42da-4c62-8fac-4e7ddd7ec5d9",
   "metadata": {},
   "outputs": [],
   "source": [
    "batch_size = int(hyperparams[sctes.BATCH_SIZE])\n",
    "valid_size = float(hyperparams[sctes.VALID_SIZE])\n",
    "test_size = float(hyperparams[sctes.TEST_SIZE])\n",
    "\n",
    "train_loader, valid_loader, test_loader = create_data_loaders(batch_size, valid_size, test_size, data)"
   ]
  },
  {
   "cell_type": "code",
   "execution_count": 14,
   "id": "eb5f7cbb-75ae-4f0e-bc03-4f829168dea2",
   "metadata": {
    "scrolled": true
   },
   "outputs": [
    {
     "name": "stdout",
     "output_type": "stream",
     "text": [
      "==========================================================================================\n",
      "Layer (type:depth-idx)                   Output Shape              Param #\n",
      "==========================================================================================\n",
      "├─Sequential: 1-1                        [-1, 16, 32768]           --\n",
      "|    └─Conv1d: 2-1                       [-1, 16, 32768]           16\n",
      "|    └─BatchNorm1d: 2-2                  [-1, 16, 32768]           32\n",
      "|    └─ReLU: 2-3                         [-1, 16, 32768]           --\n",
      "├─Sequential: 1-2                        [-1, 32, 32767]           --\n",
      "|    └─Conv1d: 2-4                       [-1, 32, 32767]           1,024\n",
      "|    └─BatchNorm1d: 2-5                  [-1, 32, 32767]           64\n",
      "|    └─ReLU: 2-6                         [-1, 32, 32767]           --\n",
      "├─AvgPool1d: 1-3                         [-1, 32, 16384]           --\n",
      "├─Sequential: 1-4                        [-1, 64, 16381]           --\n",
      "|    └─Conv1d: 2-7                       [-1, 64, 16381]           8,192\n",
      "|    └─BatchNorm1d: 2-8                  [-1, 64, 16381]           128\n",
      "|    └─ReLU: 2-9                         [-1, 64, 16381]           --\n",
      "├─AvgPool1d: 1-5                         [-1, 64, 8191]            --\n",
      "├─Sequential: 1-6                        [-1, 128, 8184]           --\n",
      "|    └─Conv1d: 2-10                      [-1, 128, 8184]           65,536\n",
      "|    └─BatchNorm1d: 2-11                 [-1, 128, 8184]           256\n",
      "|    └─ReLU: 2-12                        [-1, 128, 8184]           --\n",
      "├─AvgPool1d: 1-7                         [-1, 128, 4092]           --\n",
      "├─Sequential: 1-8                        [-1, 256, 4077]           --\n",
      "|    └─Conv1d: 2-13                      [-1, 256, 4077]           524,288\n",
      "|    └─BatchNorm1d: 2-14                 [-1, 256, 4077]           512\n",
      "|    └─ReLU: 2-15                        [-1, 256, 4077]           --\n",
      "├─AvgPool1d: 1-9                         [-1, 256, 2039]           --\n",
      "├─Sequential: 1-10                       [-1, 256, 2008]           --\n",
      "|    └─Conv1d: 2-16                      [-1, 256, 2008]           2,097,152\n",
      "|    └─BatchNorm1d: 2-17                 [-1, 256, 2008]           512\n",
      "|    └─ReLU: 2-18                        [-1, 256, 2008]           --\n",
      "├─AvgPool1d: 1-11                        [-1, 256, 1004]           --\n",
      "├─Sequential: 1-12                       [-1, 256, 941]            --\n",
      "|    └─Conv1d: 2-19                      [-1, 256, 941]            4,194,304\n",
      "|    └─BatchNorm1d: 2-20                 [-1, 256, 941]            512\n",
      "|    └─ReLU: 2-21                        [-1, 256, 941]            --\n",
      "├─Flatten: 1-13                          [-1, 240896]              --\n",
      "├─Linear: 1-14                           [-1, 4]                   963,588\n",
      "==========================================================================================\n",
      "Total params: 7,856,116\n",
      "Trainable params: 7,856,116\n",
      "Non-trainable params: 0\n",
      "Total mult-adds (G): 11.01\n",
      "==========================================================================================\n",
      "Input size (MB): 0.12\n",
      "Forward/backward pass size (MB): 83.43\n",
      "Params size (MB): 29.97\n",
      "Estimated Total Size (MB): 113.52\n",
      "==========================================================================================\n"
     ]
    },
    {
     "data": {
      "text/plain": [
       "==========================================================================================\n",
       "Layer (type:depth-idx)                   Output Shape              Param #\n",
       "==========================================================================================\n",
       "├─Sequential: 1-1                        [-1, 16, 32768]           --\n",
       "|    └─Conv1d: 2-1                       [-1, 16, 32768]           16\n",
       "|    └─BatchNorm1d: 2-2                  [-1, 16, 32768]           32\n",
       "|    └─ReLU: 2-3                         [-1, 16, 32768]           --\n",
       "├─Sequential: 1-2                        [-1, 32, 32767]           --\n",
       "|    └─Conv1d: 2-4                       [-1, 32, 32767]           1,024\n",
       "|    └─BatchNorm1d: 2-5                  [-1, 32, 32767]           64\n",
       "|    └─ReLU: 2-6                         [-1, 32, 32767]           --\n",
       "├─AvgPool1d: 1-3                         [-1, 32, 16384]           --\n",
       "├─Sequential: 1-4                        [-1, 64, 16381]           --\n",
       "|    └─Conv1d: 2-7                       [-1, 64, 16381]           8,192\n",
       "|    └─BatchNorm1d: 2-8                  [-1, 64, 16381]           128\n",
       "|    └─ReLU: 2-9                         [-1, 64, 16381]           --\n",
       "├─AvgPool1d: 1-5                         [-1, 64, 8191]            --\n",
       "├─Sequential: 1-6                        [-1, 128, 8184]           --\n",
       "|    └─Conv1d: 2-10                      [-1, 128, 8184]           65,536\n",
       "|    └─BatchNorm1d: 2-11                 [-1, 128, 8184]           256\n",
       "|    └─ReLU: 2-12                        [-1, 128, 8184]           --\n",
       "├─AvgPool1d: 1-7                         [-1, 128, 4092]           --\n",
       "├─Sequential: 1-8                        [-1, 256, 4077]           --\n",
       "|    └─Conv1d: 2-13                      [-1, 256, 4077]           524,288\n",
       "|    └─BatchNorm1d: 2-14                 [-1, 256, 4077]           512\n",
       "|    └─ReLU: 2-15                        [-1, 256, 4077]           --\n",
       "├─AvgPool1d: 1-9                         [-1, 256, 2039]           --\n",
       "├─Sequential: 1-10                       [-1, 256, 2008]           --\n",
       "|    └─Conv1d: 2-16                      [-1, 256, 2008]           2,097,152\n",
       "|    └─BatchNorm1d: 2-17                 [-1, 256, 2008]           512\n",
       "|    └─ReLU: 2-18                        [-1, 256, 2008]           --\n",
       "├─AvgPool1d: 1-11                        [-1, 256, 1004]           --\n",
       "├─Sequential: 1-12                       [-1, 256, 941]            --\n",
       "|    └─Conv1d: 2-19                      [-1, 256, 941]            4,194,304\n",
       "|    └─BatchNorm1d: 2-20                 [-1, 256, 941]            512\n",
       "|    └─ReLU: 2-21                        [-1, 256, 941]            --\n",
       "├─Flatten: 1-13                          [-1, 240896]              --\n",
       "├─Linear: 1-14                           [-1, 4]                   963,588\n",
       "==========================================================================================\n",
       "Total params: 7,856,116\n",
       "Trainable params: 7,856,116\n",
       "Non-trainable params: 0\n",
       "Total mult-adds (G): 11.01\n",
       "==========================================================================================\n",
       "Input size (MB): 0.12\n",
       "Forward/backward pass size (MB): 83.43\n",
       "Params size (MB): 29.97\n",
       "Estimated Total Size (MB): 113.52\n",
       "=========================================================================================="
      ]
     },
     "execution_count": 14,
     "metadata": {},
     "output_type": "execute_result"
    }
   ],
   "source": [
    "model = CNNRegressor(input_size=sample_size)\n",
    "model.to(device=device)\n",
    "model.load_state_dict(torch.load(model_path, map_location=device))\n",
    "summary(model, (1, sample_size))"
   ]
  },
  {
   "cell_type": "code",
   "execution_count": 15,
   "id": "e69cdfeb-da88-4f16-9dd7-582c576f2159",
   "metadata": {},
   "outputs": [],
   "source": [
    "losses = np.load(losses_path)\n",
    "train_losses = losses[sctes.TRAIN]\n",
    "valid_losses = losses[sctes.VAL]"
   ]
  },
  {
   "cell_type": "code",
   "execution_count": 16,
   "id": "5b30e607-5a3f-4315-83b7-dc16e36d2c80",
   "metadata": {},
   "outputs": [
    {
     "name": "stdout",
     "output_type": "stream",
     "text": [
      "criterion = WeightedMSELoss(weights=tensor([1.2500e+00, 1.2500e+01, 2.0000e-04, 2.2222e-01], device='cuda:0'))\n",
      "criterion.weights = tensor([1.2500e+00, 1.2500e+01, 2.0000e-04, 2.2222e-01], device='cuda:0')\n"
     ]
    }
   ],
   "source": [
    "c1_weight      = 1 / 0.8\n",
    "c2_weight      = 1 / 0.08\n",
    "L_weight       = 1 / 5000\n",
    "epsilon_weight = 1 / 4.5\n",
    "mse_weights    = torch.FloatTensor([c1_weight, c2_weight, L_weight, epsilon_weight]).to(device=device)\n",
    "criterion = WeightedMSELoss(mse_weights).to(device=device)\n",
    "print(f\"{criterion = }\")\n",
    "print(f\"{criterion.weights = }\")"
   ]
  },
  {
   "cell_type": "code",
   "execution_count": 17,
   "id": "41cf1305-04b4-4659-847a-2f7f6a1ffd38",
   "metadata": {},
   "outputs": [
    {
     "name": "stdout",
     "output_type": "stream",
     "text": [
      "Sample length    = 32768\n",
      "Total samples    = 12800\n",
      "Train samples    = 2048\n",
      "Valid samples    = 512\n",
      "Test samples     = 10240\n",
      "Batch size       = 64\n",
      "Number of epochs = 20\n",
      "Loss             = WeightedMSELoss(weights=tensor([1.2500e+00, 1.2500e+01, 2.0000e-04, 2.2222e-01], device='cuda:0'))\n",
      "Optimizer        = Adam (\n",
      "Parameter Group 0\n",
      "    amsgrad: False\n",
      "    betas: (0.9, 0.999)\n",
      "    capturable: False\n",
      "    differentiable: False\n",
      "    eps: 1e-08\n",
      "    foreach: None\n",
      "    fused: None\n",
      "    lr: 0.001\n",
      "    maximize: False\n",
      "    weight_decay: 0\n",
      ")\n",
      "Learning rate    = 0.001\n",
      "Seed             = 42.0\n"
     ]
    }
   ],
   "source": [
    "data_len = int(hyperparams[sctes.LEN])\n",
    "test_len = int(hyperparams[sctes.LEN]*hyperparams[sctes.TEST_SIZE])\n",
    "valid_len = int((hyperparams[sctes.LEN] - hyperparams[sctes.LEN]*hyperparams[sctes.TEST_SIZE])*hyperparams[sctes.VALID_SIZE])\n",
    "train_len = data_len - test_len - valid_len\n",
    "\n",
    "print(f\"Sample length    = {nctes.LEN_SAMPLE}\")\n",
    "print(f\"Total samples    = {data_len}\")\n",
    "print(f\"Train samples    = {train_len}\")\n",
    "print(f\"Valid samples    = {valid_len}\")\n",
    "print(f\"Test samples     = {test_len}\")\n",
    "print(f\"Batch size       = {int(hyperparams[sctes.BATCH_SIZE])}\")\n",
    "print(f\"Number of epochs = {int(hyperparams[sctes.EPOCHS])}\")\n",
    "print(f\"Loss             = {''.join(hyperparams[sctes.CRITERION].tolist())}\")\n",
    "print(f\"Optimizer        = {''.join(hyperparams[sctes.OPTIMIZER].tolist())}\")\n",
    "print(f\"Learning rate    = {float(hyperparams[sctes.LR])}\")\n",
    "print(f\"Seed             = {float(hyperparams[sctes.SEED])}\")"
   ]
  },
  {
   "cell_type": "code",
   "execution_count": 18,
   "id": "02e6896d-9cf8-4348-8201-5592d623dbc1",
   "metadata": {},
   "outputs": [
    {
     "data": {
      "image/png": "[encoded data removed]",
      "text/plain": [
       "<Figure size 640x480 with 1 Axes>"
      ]
     },
     "metadata": {},
     "output_type": "display_data"
    }
   ],
   "source": [
    "plot_losses(len(train_losses), [train_losses, valid_losses], [\"Train\", \"Val\"])"
   ]
  },
  {
   "cell_type": "code",
   "execution_count": 21,
   "id": "f6a6c626-cb41-4a45-bb44-6d92d065258d",
   "metadata": {},
   "outputs": [
    {
     "name": "stderr",
     "output_type": "stream",
     "text": [
      "100%|████████████████████████████████████████████████████████| 160/160 [00:30<00:00,  5.27it/s]\n"
     ]
    }
   ],
   "source": [
    "targets, preds = get_all_predictions(model, test_loader, device)"
   ]
  },
  {
   "cell_type": "code",
   "execution_count": 22,
   "id": "437867db-fec7-45e4-8f4a-946831ba4918",
   "metadata": {},
   "outputs": [
    {
     "name": "stderr",
     "output_type": "stream",
     "text": [
      "0it [00:00, ?it/s]C:\\Users\\frank\\AppData\\Local\\Temp\\ipykernel_15600\\3818646906.py:3: UserWarning: Creating a tensor from a list of numpy.ndarrays is extremely slow. Please consider converting the list to a single numpy.ndarray with numpy.array() before converting to a tensor. (Triggered internally at C:\\cb\\pytorch_1000000000000\\work\\torch\\csrc\\utils\\tensor_new.cpp:264.)\n",
      "  target = torch.FloatTensor([target]).to(device=device)\n",
      "10240it [00:03, 2931.58it/s]\n"
     ]
    }
   ],
   "source": [
    "test_losses = [] \n",
    "for target, pred in tqdm(zip(targets, preds)):\n",
    "    target = torch.FloatTensor([target]).to(device=device)\n",
    "    pred = torch.FloatTensor([pred]).to(device=device)\n",
    "    test_losses.append(criterion(target, pred).item())\n",
    "test_losses = np.array(test_losses)"
   ]
  },
  {
   "cell_type": "code",
   "execution_count": 23,
   "id": "35cec305-2656-4bd1-97dc-9e027fe58724",
   "metadata": {},
   "outputs": [],
   "source": [
    "idx_sort    = np.flip(np.argsort(test_losses))\n",
    "test_losses = test_losses[idx_sort]\n",
    "targets     = targets[idx_sort]\n",
    "preds       = preds[idx_sort]"
   ]
  },
  {
   "cell_type": "code",
   "execution_count": 24,
   "id": "8b7c0987-dddb-4c37-9c53-f76e37e05eb4",
   "metadata": {},
   "outputs": [
    {
     "name": "stdout",
     "output_type": "stream",
     "text": [
      "10 Worst Results ==>\n",
      "                 c1         c2          L       epsilon\n",
      "Target      = ['0.2000', '0.0400', '1000.0000', '0.5000']\n",
      "Prediction  = ['0.9809', '0.0735', '3936.8176', '-0.1853']\n",
      "WeightedMSE = 431.4651\n",
      "\n",
      "                 c1         c2          L       epsilon\n",
      "Target      = ['0.2000', '0.0400', '5000.0000', '3.5000']\n",
      "Prediction  = ['0.5103', '-0.5151', '2097.8311', '2.4279']\n",
      "WeightedMSE = 422.1861\n",
      "\n",
      "                 c1         c2          L       epsilon\n",
      "Target      = ['0.2000', '0.0400', '5000.0000', '4.5000']\n",
      "Prediction  = ['0.4372', '-0.3085', '2128.8035', '0.2131']\n",
      "WeightedMSE = 413.6066\n",
      "\n",
      "                 c1         c2          L       epsilon\n",
      "Target      = ['0.2000', '0.0200', '5000.0000', '1.5000']\n",
      "Prediction  = ['0.9015', '0.5077', '2130.9434', '0.4623']\n",
      "WeightedMSE = 412.5312\n",
      "\n",
      "                 c1         c2          L       epsilon\n",
      "Target      = ['0.2000', '0.0200', '5000.0000', '2.5000']\n",
      "Prediction  = ['0.1022', '-0.2010', '2134.0496', '0.2519']\n",
      "WeightedMSE = 411.1201\n",
      "\n",
      "                 c1         c2          L       epsilon\n",
      "Target      = ['0.2000', '0.0400', '5000.0000', '3.5000']\n",
      "Prediction  = ['0.7561', '-0.1890', '2157.5752', '1.0640']\n",
      "WeightedMSE = 404.5591\n",
      "\n",
      "                 c1         c2          L       epsilon\n",
      "Target      = ['0.2000', '0.0200', '5000.0000', '4.5000']\n",
      "Prediction  = ['0.4789', '0.1701', '2161.4553', '0.1669']\n",
      "WeightedMSE = 404.0046\n",
      "\n",
      "                 c1         c2          L       epsilon\n",
      "Target      = ['0.2000', '0.0400', '5000.0000', '3.5000']\n",
      "Prediction  = ['-0.1009', '-0.3784', '2182.2649', '0.0132']\n",
      "WeightedMSE = 398.2323\n",
      "\n",
      "                 c1         c2          L       epsilon\n",
      "Target      = ['0.4000', '0.0200', '5000.0000', '0.5000']\n",
      "Prediction  = ['0.4864', '0.2486', '2189.9570', '2.1502']\n",
      "WeightedMSE = 395.1341\n",
      "\n",
      "                 c1         c2          L       epsilon\n",
      "Target      = ['0.4000', '0.0600', '5000.0000', '4.5000']\n",
      "Prediction  = ['0.1449', '-0.3694', '2206.1360', '-1.5716']\n",
      "WeightedMSE = 392.9284\n",
      "\n"
     ]
    }
   ],
   "source": [
    "n_show = 10\n",
    "print(f\"{n_show} Worst Results ==>\")\n",
    "for i in range(n_show):\n",
    "    print(f\"                 c1         c2          L       epsilon\")\n",
    "    print(f\"Target      = {['{:0.4f}'.format(f) for f in targets[i]]}\")\n",
    "    print(f\"Prediction  = {['{:0.4f}'.format(f) for f in preds[i]]}\")\n",
    "    print(f\"WeightedMSE = {'{:0.4f}'.format(test_losses[i])}\")\n",
    "    print()"
   ]
  },
  {
   "cell_type": "code",
   "execution_count": 26,
   "id": "e9b7ade1-b91a-449c-a449-f30e33bb5d91",
   "metadata": {},
   "outputs": [
    {
     "name": "stdout",
     "output_type": "stream",
     "text": [
      "10 Best Results ==>\n",
      "                 c1         c2          L       epsilon\n",
      "Target      = ['0.4000', '0.0800', '2000.0000', '1.5000']\n",
      "Prediction  = ['0.9445', '-0.0334', '2022.6345', '1.4885']\n",
      "WeightedMSE = 0.1584\n",
      "\n",
      "                 c1         c2          L       epsilon\n",
      "Target      = ['0.4000', '0.0400', '1000.0000', '0.5000']\n",
      "Prediction  = ['0.3569', '0.1956', '990.9149', '1.6105']\n",
      "WeightedMSE = 0.1488\n",
      "\n",
      "                 c1         c2          L       epsilon\n",
      "Target      = ['0.2000', '0.0400', '4000.0000', '0.5000']\n",
      "Prediction  = ['0.1615', '-0.0348', '3951.1177', '0.4994']\n",
      "WeightedMSE = 0.1374\n",
      "\n",
      "                 c1         c2          L       epsilon\n",
      "Target      = ['0.4000', '0.0200', '3000.0000', '0.5000']\n",
      "Prediction  = ['0.2695', '-0.1728', '3012.1882', '0.8831']\n",
      "WeightedMSE = 0.1371\n",
      "\n",
      "                 c1         c2          L       epsilon\n",
      "Target      = ['0.4000', '0.0800', '3000.0000', '0.5000']\n",
      "Prediction  = ['0.6818', '0.0006', '3038.9680', '0.6564']\n",
      "WeightedMSE = 0.1218\n",
      "\n",
      "                 c1         c2          L       epsilon\n",
      "Target      = ['0.6000', '0.0400', '1000.0000', '1.5000']\n",
      "Prediction  = ['0.9138', '0.1353', '989.4824', '2.4355']\n",
      "WeightedMSE = 0.1133\n",
      "\n",
      "                 c1         c2          L       epsilon\n",
      "Target      = ['0.6000', '0.0600', '3000.0000', '2.5000']\n",
      "Prediction  = ['0.9567', '0.1553', '2994.1467', '1.7735']\n",
      "WeightedMSE = 0.0992\n",
      "\n",
      "                 c1         c2          L       epsilon\n",
      "Target      = ['0.4000', '0.0200', '1000.0000', '2.5000']\n",
      "Prediction  = ['0.6557', '0.1324', '1017.9958', '1.8891']\n",
      "WeightedMSE = 0.0968\n",
      "\n",
      "                 c1         c2          L       epsilon\n",
      "Target      = ['0.6000', '0.0200', '4000.0000', '2.5000']\n",
      "Prediction  = ['0.9175', '0.0826', '3999.1877', '1.7575']\n",
      "WeightedMSE = 0.0744\n",
      "\n",
      "                 c1         c2          L       epsilon\n",
      "Target      = ['0.4000', '0.0600', '1000.0000', '3.5000']\n",
      "Prediction  = ['0.5392', '0.1317', '1007.0193', '3.2686']\n",
      "WeightedMSE = 0.0276\n",
      "\n"
     ]
    }
   ],
   "source": [
    "n_show = 10\n",
    "print(f\"{n_show} Best Results ==>\")\n",
    "for i in range(n_show, 0, -1):\n",
    "    print(f\"                 c1         c2          L       epsilon\")\n",
    "    print(f\"Target      = {['{:0.4f}'.format(f) for f in targets[-i]]}\")\n",
    "    print(f\"Prediction  = {['{:0.4f}'.format(f) for f in preds[-i]]}\")\n",
    "    print(f\"WeightedMSE = {'{:0.4f}'.format(test_losses[-i])}\")\n",
    "    print()"
   ]
  },
  {
   "cell_type": "code",
   "execution_count": 27,
   "id": "a2e68a87-fed9-4c23-a75f-95e5a1504090",
   "metadata": {},
   "outputs": [],
   "source": [
    "# ToDo\n",
    " \n",
    "# On cnn_base.py : \n",
    "# Change Flatten layer by some ConvTranspose1d before the linear dense layer\n",
    "\n",
    "# On this notebook : \n",
    "# Predict statistics on test data\n",
    "    # Data can be accesed using 'test_loader'\n",
    "    # Use trained model for predicting\n",
    "# Evaluate predicted statistics using MSE or RMSE for each statistic individually\n",
    "# Reconstruct test samples using 'synthMRWregul' on the predicted statistics\n",
    "# Evaluate reconstructions using MSE or RMSE over the whole length of the original and reconstructed sample\n",
    "# Plot some test samples and its reconstruction on the same figure for each pair.\n",
    "\n",
    "# On the project\n",
    "# Install the project on Schools Computers\n",
    "# Search how to train the model remotely"
   ]
  }
 ],
 "metadata": {
  "kernelspec": {
   "display_name": "Python 3 (ipykernel)",
   "language": "python",
   "name": "python3"
  },
  "language_info": {
   "codemirror_mode": {
    "name": "ipython",
    "version": 3
   },
   "file_extension": ".py",
   "mimetype": "text/x-python",
   "name": "python",
   "nbconvert_exporter": "python",
   "pygments_lexer": "ipython3",
   "version": "3.11.5"
  }
 },
 "nbformat": 4,
 "nbformat_minor": 5
}
